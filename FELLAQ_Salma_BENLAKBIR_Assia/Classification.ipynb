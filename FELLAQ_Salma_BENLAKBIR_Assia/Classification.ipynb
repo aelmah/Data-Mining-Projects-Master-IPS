{
 "cells": [
  {
   "cell_type": "markdown",
   "id": "b244c881-6582-4a90-839f-344d27d0440b",
   "metadata": {},
   "source": [
    "**Informations sur les données :**\n",
    "\n",
    "\n",
    "\n",
    "Les données analysées comprennent un total de 411 patients, dont l'âge moyen est d'environ 50,5 ans, avec un écart-type de 9,4 ans. La plupart des patients sont de sexe masculin, représentant environ 65 % de l'échantillon. En ce qui concerne la douleur thoracique (chest_pain), les patients présentent en moyenne un niveau de douleur modérée (2,76 sur une échelle de 1 à 4), avec une répartition assez uniforme entre les différents niveaux de douleur. Cependant, il est à noter que tous les patients inclus dans cette analyse ne présentent pas de maladie cardiaque, ce qui est indiqué par la colonne \"has_heart_disease\" ayant une valeur constante de 0 pour tous les patients de l'échantillon. L'âge des patients varie entre 28 et 76 ans, avec un quartile supérieur à 57 ans, ce qui indique une distribution relativement large de l'âge au sein de l'échantillon.\n"
   ]
  },
  {
   "cell_type": "markdown",
   "id": "17c1e046-6d34-4dad-b26c-cbe2b2a0536f",
   "metadata": {},
   "source": [
    "**Notre projet :**\n",
    "\n",
    "Dans notre projet, nous allons explorer et analyser en profondeur les données médicales disponibles pour détecter les maladies cardiaques chez les patients. Notre démarche comprend plusieurs étapes essentielles. Tout d'abord, nous allons explorer les données pour en comprendre la structure, les distributions, et les relations entre les variables. Cela inclut des analyses de la distribution des attributs et de la matrice de corrélation pour identifier les relations entre les différents facteurs médicaux. Ensuite, nous allons procéder au prétraitement des données, notamment en encodant les attributs catégoriels, en divisant les données en ensembles d'entraînement et de test, et en normalisant les valeurs si nécessaire. En parallèle, nous allons construire plusieurs modèles de classification, notamment la Régression Logistique, les K Plus Proches Voisins, les Forêts Aléatoires, les Arbres de Décision et les Machines à Vecteurs de Support (SVM). Nous importerons ces modèles, ajusterons leurs hyperparamètres, les entraînerons sur les données d'entraînement, et les évaluerons en utilisant diverses métriques pour déterminer le modèle le plus performant dans la détection des maladies cardiaques."
   ]
  },
  {
   "cell_type": "markdown",
   "id": "c978a3ef-d66e-4fe5-9067-c751b60c1eb4",
   "metadata": {},
   "source": [
    "#  __Classification__ \n",
    "## 1. _Exploration des donnees_\n",
    "### 1.1 Comprendre les donnees "
   ]
  },
  {
   "cell_type": "code",
   "execution_count": 1,
   "id": "fdd6e65d-acd5-4cb0-bee6-406060b503d6",
   "metadata": {},
   "outputs": [],
   "source": [
    "# importation de bibliothèques\n",
    "import numpy as np\n",
    "import pandas as pd \n",
    "import matplotlib.pyplot as plt \n",
    "import seaborn as sns\n",
    "%matplotlib inline"
   ]
  },
  {
   "cell_type": "code",
   "execution_count": 2,
   "id": "bef8241a-4142-475f-8256-f578d56c1d49",
   "metadata": {},
   "outputs": [],
   "source": [
    "#lire des données dans le dataframe\n",
    "df = pd.read_csv('heart_disease.csv',sep=',')"
   ]
  },
  {
   "cell_type": "code",
   "execution_count": 3,
   "id": "4e287c31-be42-4353-b732-dfd1658e3b62",
   "metadata": {},
   "outputs": [
    {
     "data": {
      "text/html": [
       "<div>\n",
       "<style scoped>\n",
       "    .dataframe tbody tr th:only-of-type {\n",
       "        vertical-align: middle;\n",
       "    }\n",
       "\n",
       "    .dataframe tbody tr th {\n",
       "        vertical-align: top;\n",
       "    }\n",
       "\n",
       "    .dataframe thead th {\n",
       "        text-align: right;\n",
       "    }\n",
       "</style>\n",
       "<table border=\"1\" class=\"dataframe\">\n",
       "  <thead>\n",
       "    <tr style=\"text-align: right;\">\n",
       "      <th></th>\n",
       "      <th>site</th>\n",
       "      <th>age</th>\n",
       "      <th>is_male</th>\n",
       "      <th>chest_pain</th>\n",
       "      <th>rest_blood_press</th>\n",
       "      <th>cholesterol</th>\n",
       "      <th>high_blood_sugar</th>\n",
       "      <th>rest_ecg</th>\n",
       "      <th>max_heart_rate</th>\n",
       "      <th>exer_angina</th>\n",
       "      <th>ST_depression</th>\n",
       "      <th>Peak_ST_seg</th>\n",
       "      <th>major_vessels</th>\n",
       "      <th>thal</th>\n",
       "      <th>has_heart_disease</th>\n",
       "    </tr>\n",
       "  </thead>\n",
       "  <tbody>\n",
       "    <tr>\n",
       "      <th>0</th>\n",
       "      <td>cleve</td>\n",
       "      <td>63</td>\n",
       "      <td>1</td>\n",
       "      <td>1</td>\n",
       "      <td>145</td>\n",
       "      <td>233</td>\n",
       "      <td>1</td>\n",
       "      <td>2</td>\n",
       "      <td>150</td>\n",
       "      <td>0</td>\n",
       "      <td>2.3</td>\n",
       "      <td>3</td>\n",
       "      <td>0</td>\n",
       "      <td>6</td>\n",
       "      <td>0</td>\n",
       "    </tr>\n",
       "    <tr>\n",
       "      <th>1</th>\n",
       "      <td>cleve</td>\n",
       "      <td>67</td>\n",
       "      <td>1</td>\n",
       "      <td>4</td>\n",
       "      <td>160</td>\n",
       "      <td>286</td>\n",
       "      <td>0</td>\n",
       "      <td>2</td>\n",
       "      <td>108</td>\n",
       "      <td>1</td>\n",
       "      <td>1.5</td>\n",
       "      <td>2</td>\n",
       "      <td>3</td>\n",
       "      <td>3</td>\n",
       "      <td>2</td>\n",
       "    </tr>\n",
       "    <tr>\n",
       "      <th>2</th>\n",
       "      <td>cleve</td>\n",
       "      <td>67</td>\n",
       "      <td>1</td>\n",
       "      <td>4</td>\n",
       "      <td>120</td>\n",
       "      <td>229</td>\n",
       "      <td>0</td>\n",
       "      <td>2</td>\n",
       "      <td>129</td>\n",
       "      <td>1</td>\n",
       "      <td>2.6</td>\n",
       "      <td>2</td>\n",
       "      <td>2</td>\n",
       "      <td>7</td>\n",
       "      <td>1</td>\n",
       "    </tr>\n",
       "    <tr>\n",
       "      <th>3</th>\n",
       "      <td>cleve</td>\n",
       "      <td>37</td>\n",
       "      <td>1</td>\n",
       "      <td>3</td>\n",
       "      <td>130</td>\n",
       "      <td>250</td>\n",
       "      <td>0</td>\n",
       "      <td>0</td>\n",
       "      <td>187</td>\n",
       "      <td>0</td>\n",
       "      <td>3.5</td>\n",
       "      <td>3</td>\n",
       "      <td>0</td>\n",
       "      <td>3</td>\n",
       "      <td>0</td>\n",
       "    </tr>\n",
       "    <tr>\n",
       "      <th>4</th>\n",
       "      <td>cleve</td>\n",
       "      <td>41</td>\n",
       "      <td>0</td>\n",
       "      <td>2</td>\n",
       "      <td>130</td>\n",
       "      <td>204</td>\n",
       "      <td>0</td>\n",
       "      <td>2</td>\n",
       "      <td>172</td>\n",
       "      <td>0</td>\n",
       "      <td>1.4</td>\n",
       "      <td>1</td>\n",
       "      <td>0</td>\n",
       "      <td>3</td>\n",
       "      <td>0</td>\n",
       "    </tr>\n",
       "  </tbody>\n",
       "</table>\n",
       "</div>"
      ],
      "text/plain": [
       "    site  age  is_male  chest_pain rest_blood_press cholesterol  \\\n",
       "0  cleve   63        1           1              145         233   \n",
       "1  cleve   67        1           4              160         286   \n",
       "2  cleve   67        1           4              120         229   \n",
       "3  cleve   37        1           3              130         250   \n",
       "4  cleve   41        0           2              130         204   \n",
       "\n",
       "  high_blood_sugar rest_ecg max_heart_rate exer_angina ST_depression  \\\n",
       "0                1        2            150           0           2.3   \n",
       "1                0        2            108           1           1.5   \n",
       "2                0        2            129           1           2.6   \n",
       "3                0        0            187           0           3.5   \n",
       "4                0        2            172           0           1.4   \n",
       "\n",
       "  Peak_ST_seg major_vessels thal  has_heart_disease  \n",
       "0           3             0    6                  0  \n",
       "1           2             3    3                  2  \n",
       "2           2             2    7                  1  \n",
       "3           3             0    3                  0  \n",
       "4           1             0    3                  0  "
      ]
     },
     "execution_count": 3,
     "metadata": {},
     "output_type": "execute_result"
    }
   ],
   "source": [
    "# affichage des cinq premières lignes\n",
    "df.head()"
   ]
  },
  {
   "cell_type": "raw",
   "id": "f4f6ada2-c61c-4df9-a2dc-abef203ed90d",
   "metadata": {},
   "source": [
    "Informations sur les attributs:\n",
    "-site: Le site où l'étude a été menée.\n",
    "-age: L'âge du patient en années.\n",
    "-is_male: Variable binaire indiquant le sexe du patient, où 1 représente un homme et 0 représente une femme.\n",
    "-chest_pain: Le type de douleur thoracique ressentie par le patient.\n",
    "-rest_blood_press: La pression artérielle au repos du patient en mmHg.\n",
    "-cholesterol: Le taux de cholestérol en mg/dL.\n",
    "-high_blood_sugar: Variable binaire indiquant si le patient a un taux de sucre élevé dans le sang, où 1 représente un taux élevé et 0 représente un taux normal.\n",
    "-rest_ecg: Les résultats de l'électrocardiogramme (ECG) au repos, qui peuvent indiquer des problèmes cardiaques.\n",
    "-max_heart_rate: Le taux maximal de battements cardiaques atteints pendant un test d'effort.\n",
    "-exer_angina: Variable binaire indiquant si le patient a ressenti une angine de poitrine induite par l'exercice.\n",
    "-ST_depression: La dépression du segment ST induite par l'exercice par rapport au repos.\n",
    "-Peak_ST_seg: Le segment ST à crête.\n",
    "-major_vessels: Le nombre de vaisseaux sanguins principaux colorés par fluoroscopie.\n",
    "-thal: Le type de thalassémie.\n",
    "-has_heart_disease: Variable binaire indiquant la présence de maladie cardiaque, où 1 représente la présence de maladie cardiaque et 0 représente l'absence de maladie cardiaque.\n",
    "Ces variables fournissent des informations sur divers aspects médicaux et démographiques des patients, ainsi que sur la présence ou l'absence de maladie cardiaque."
   ]
  },
  {
   "cell_type": "code",
   "execution_count": 4,
   "id": "0944a317-9feb-499a-942b-74810dae3dc0",
   "metadata": {},
   "outputs": [
    {
     "name": "stdout",
     "output_type": "stream",
     "text": [
      "<class 'pandas.core.frame.DataFrame'>\n",
      "RangeIndex: 920 entries, 0 to 919\n",
      "Data columns (total 15 columns):\n",
      " #   Column             Non-Null Count  Dtype \n",
      "---  ------             --------------  ----- \n",
      " 0   site               920 non-null    object\n",
      " 1   age                920 non-null    int64 \n",
      " 2   is_male            920 non-null    int64 \n",
      " 3   chest_pain         920 non-null    int64 \n",
      " 4   rest_blood_press   920 non-null    object\n",
      " 5   cholesterol        920 non-null    object\n",
      " 6   high_blood_sugar   920 non-null    object\n",
      " 7   rest_ecg           920 non-null    object\n",
      " 8   max_heart_rate     920 non-null    object\n",
      " 9   exer_angina        920 non-null    object\n",
      " 10  ST_depression      920 non-null    object\n",
      " 11  Peak_ST_seg        920 non-null    object\n",
      " 12  major_vessels      920 non-null    object\n",
      " 13  thal               920 non-null    object\n",
      " 14  has_heart_disease  920 non-null    int64 \n",
      "dtypes: int64(4), object(11)\n",
      "memory usage: 107.9+ KB\n"
     ]
    }
   ],
   "source": [
    "# résumé concis de dataframe\n",
    "df.info()"
   ]
  },
  {
   "cell_type": "raw",
   "id": "75c68e2d-78a5-492c-836d-ac0e6a51a5b2",
   "metadata": {},
   "source": [
    "Ces résultats de la commande df.info() fournissent des informations importantes sur le DataFrame :\n",
    "\n",
    "Le DataFrame contient un total de 920 entrées (lignes).\n",
    "Il y a 15 colonnes au total.\n",
    "Chaque colonne est répertoriée avec son nom, le nombre de valeurs non nulles qu'elle contient et son type de données (Dtype).\n",
    "Les types de données des colonnes sont principalement des objets (object) pour les variables catégorielles et des entiers (int64) pour les variables numériques.\n",
    "Certaines variables, telles que rest_blood_press, cholesterol, rest_ecg, max_heart_rate, exer_angina, ST_depression, Peak_ST_seg, major_vessels et thal, sont actuellement de type object au lieu d'être de type numérique (int64). Cela suggère qu'il peut y avoir des problèmes de formatage dans ces colonnes, qui pourraient nécessiter une conversion en type numérique pour l'analyse appropriée des données.\n",
    "Toutes les colonnes ont un nombre non nul de valeurs, ce qui signifie qu'il n'y a pas de valeurs manquantes dans le DataFrame.\n",
    "Ces informations sont essentielles pour comprendre la structure et la qualité des données, et elles peuvent orienter les étapes suivantes de prétraitement et d'analyse des données.\n",
    "site : Variable catégorielle indiquant le site.\n",
    "\n",
    "age : Variable numérique représentant l'âge.\n",
    "\n",
    "is_male : Variable binaire indiquant le genre (en supposant 1 pour homme, 0 pour femme).\n",
    "\n",
    "chest_pain : Variable catégorielle représentant la douleur thoracique.\n",
    "\n",
    "rest_blood_press : Variable catégorielle ou numérique représentant la pression artérielle au repos.\n",
    "\n",
    "cholesterol : Variable catégorielle ou numérique représentant les niveaux de cholestérol.\n",
    "\n",
    "high_blood_sugar : Variable catégorielle indiquant un taux de sucre élevé dans le sang.\n",
    "\n",
    "rest_ecg : Variable catégorielle représentant les résultats électrocardiographiques au repos.\n",
    "\n",
    "max_heart_rate : Variable catégorielle ou numérique représentant le rythme cardiaque maximal atteint.\n",
    "\n",
    "exer_angina : Variable catégorielle indiquant l'angine induite par l'exercice.\n",
    "\n",
    "ST_depression : Variable catégorielle ou numérique représentant la dépression ST induite par l'exercice.\n",
    "\n",
    "Peak_ST_seg : Variable catégorielle ou numérique représentant le segment ST d'exercice de pointe.\n",
    "\n",
    "major_vessels : Variable catégorielle ou numérique représentant le nombre de gros vaisseaux colorés par fluoroscopie.\n",
    "\n",
    "thal : Variable catégorielle représentant la thalassémie.\n",
    "\n",
    "has_heart_disease : Variable binaire indiquant la présence de maladie cardiaque.\n"
   ]
  },
  {
   "cell_type": "code",
   "execution_count": 5,
   "id": "68ba583e-666f-4b03-9574-fb40a0a30fe9",
   "metadata": {},
   "outputs": [
    {
     "data": {
      "text/plain": [
       "site                 0\n",
       "age                  0\n",
       "is_male              0\n",
       "chest_pain           0\n",
       "rest_blood_press     0\n",
       "cholesterol          0\n",
       "high_blood_sugar     0\n",
       "rest_ecg             0\n",
       "max_heart_rate       0\n",
       "exer_angina          0\n",
       "ST_depression        0\n",
       "Peak_ST_seg          0\n",
       "major_vessels        0\n",
       "thal                 0\n",
       "has_heart_disease    0\n",
       "dtype: int64"
      ]
     },
     "execution_count": 5,
     "metadata": {},
     "output_type": "execute_result"
    }
   ],
   "source": [
    "# vérification des valeurs nulles\n",
    "df.isnull().sum()"
   ]
  },
  {
   "cell_type": "raw",
   "id": "6088d83a-007e-4254-8211-387186d4bd3b",
   "metadata": {},
   "source": [
    "Pour chaque variable, le nombre de valeurs manquantes est de 0.\n",
    "Cela signifie qu'aucune des variables n'a de valeurs manquantes dans le DataFrame."
   ]
  },
  {
   "cell_type": "code",
   "execution_count": 6,
   "id": "ac0f0d8e-2d5b-46bc-b31a-cb6c155a7b3b",
   "metadata": {},
   "outputs": [],
   "source": [
    "#convertire '?' au 'valeur nulle'\n",
    "df=df.replace('?', np.NaN)"
   ]
  },
  {
   "cell_type": "raw",
   "id": "6dc914e6-a62b-432b-8513-da98d6023e57",
   "metadata": {},
   "source": [
    "La commande df = df.replace('?', np.NaN) remplace toutes les valeurs '?' dans le DataFrame df par des valeurs NaN (Not a Number) de NumPy. Cela est souvent utilisé pour représenter des valeurs manquantes dans un DataFrame."
   ]
  },
  {
   "cell_type": "code",
   "execution_count": 7,
   "id": "c78bff37-d314-4ce3-9cc9-1ec67f4fb1bc",
   "metadata": {},
   "outputs": [
    {
     "data": {
      "text/plain": [
       "site                   0\n",
       "age                    0\n",
       "is_male                0\n",
       "chest_pain             0\n",
       "rest_blood_press      59\n",
       "cholesterol           30\n",
       "high_blood_sugar      90\n",
       "rest_ecg               2\n",
       "max_heart_rate        55\n",
       "exer_angina           55\n",
       "ST_depression         62\n",
       "Peak_ST_seg          309\n",
       "major_vessels        611\n",
       "thal                 486\n",
       "has_heart_disease      0\n",
       "dtype: int64"
      ]
     },
     "execution_count": 7,
     "metadata": {},
     "output_type": "execute_result"
    }
   ],
   "source": [
    "# vérification des valeurs nulles\n",
    "df.isnull().sum()"
   ]
  },
  {
   "cell_type": "raw",
   "id": "9edf7cb1-598b-467f-bd4f-3124af074307",
   "metadata": {},
   "source": [
    "Les résultats de la commande df.isnull().sum() montrent le nombre de valeurs manquantes pour chaque variable dans le DataFrame :\n",
    "\n",
    " -Pour les variables site, age, is_male, chest_pain et has_heart_disease, il n'y a aucune valeur manquante (c'est-à-dire 0).\n",
    "Cependant, d'autres variables présentent des valeurs manquantes :\n",
    " -rest_blood_press: 59 valeurs manquantes\n",
    " -cholesterol: 30 valeurs manquantes\n",
    " -high_blood_sugar: 90 valeurs manquantes\n",
    " -rest_ecg: 2 valeurs manquantes\n",
    " -max_heart_rate: 55 valeurs manquantes\n",
    " -exer_angina: 55 valeurs manquantes\n",
    " -ST_depression: 62 valeurs manquantes\n",
    " -Peak_ST_seg: 309 valeurs manquantes\n",
    " -major_vessels: 611 valeurs manquantes\n",
    " -thal: 486 valeurs manquantes\n",
    "Ces résultats suggèrent que ces variables spécifiques ont des données manquantes, ce qui nécessitera une attention particulière lors de l'analyse des données et du développement du modèle. Des stratégies appropriées devront être mises en place pour gérer ces valeurs manquantes, telles que l'imputation de données ou l'exclusion des observations correspondantes lors de l'analyse."
   ]
  },
  {
   "cell_type": "code",
   "execution_count": 8,
   "id": "2459e67b-de61-47dd-8b1c-c1c857dd95a4",
   "metadata": {},
   "outputs": [
    {
     "data": {
      "text/html": [
       "<div>\n",
       "<style scoped>\n",
       "    .dataframe tbody tr th:only-of-type {\n",
       "        vertical-align: middle;\n",
       "    }\n",
       "\n",
       "    .dataframe tbody tr th {\n",
       "        vertical-align: top;\n",
       "    }\n",
       "\n",
       "    .dataframe thead th {\n",
       "        text-align: right;\n",
       "    }\n",
       "</style>\n",
       "<table border=\"1\" class=\"dataframe\">\n",
       "  <thead>\n",
       "    <tr style=\"text-align: right;\">\n",
       "      <th></th>\n",
       "      <th>site</th>\n",
       "      <th>age</th>\n",
       "      <th>is_male</th>\n",
       "      <th>chest_pain</th>\n",
       "      <th>rest_blood_press</th>\n",
       "      <th>cholesterol</th>\n",
       "      <th>high_blood_sugar</th>\n",
       "      <th>rest_ecg</th>\n",
       "      <th>max_heart_rate</th>\n",
       "      <th>exer_angina</th>\n",
       "      <th>ST_depression</th>\n",
       "      <th>Peak_ST_seg</th>\n",
       "      <th>major_vessels</th>\n",
       "      <th>thal</th>\n",
       "      <th>has_heart_disease</th>\n",
       "    </tr>\n",
       "  </thead>\n",
       "  <tbody>\n",
       "    <tr>\n",
       "      <th>0</th>\n",
       "      <td>False</td>\n",
       "      <td>False</td>\n",
       "      <td>False</td>\n",
       "      <td>False</td>\n",
       "      <td>False</td>\n",
       "      <td>False</td>\n",
       "      <td>False</td>\n",
       "      <td>False</td>\n",
       "      <td>False</td>\n",
       "      <td>False</td>\n",
       "      <td>False</td>\n",
       "      <td>False</td>\n",
       "      <td>False</td>\n",
       "      <td>False</td>\n",
       "      <td>False</td>\n",
       "    </tr>\n",
       "    <tr>\n",
       "      <th>1</th>\n",
       "      <td>False</td>\n",
       "      <td>False</td>\n",
       "      <td>False</td>\n",
       "      <td>False</td>\n",
       "      <td>False</td>\n",
       "      <td>False</td>\n",
       "      <td>False</td>\n",
       "      <td>False</td>\n",
       "      <td>False</td>\n",
       "      <td>False</td>\n",
       "      <td>False</td>\n",
       "      <td>False</td>\n",
       "      <td>False</td>\n",
       "      <td>False</td>\n",
       "      <td>False</td>\n",
       "    </tr>\n",
       "    <tr>\n",
       "      <th>2</th>\n",
       "      <td>False</td>\n",
       "      <td>False</td>\n",
       "      <td>False</td>\n",
       "      <td>False</td>\n",
       "      <td>False</td>\n",
       "      <td>False</td>\n",
       "      <td>False</td>\n",
       "      <td>False</td>\n",
       "      <td>False</td>\n",
       "      <td>False</td>\n",
       "      <td>False</td>\n",
       "      <td>False</td>\n",
       "      <td>False</td>\n",
       "      <td>False</td>\n",
       "      <td>False</td>\n",
       "    </tr>\n",
       "    <tr>\n",
       "      <th>3</th>\n",
       "      <td>False</td>\n",
       "      <td>False</td>\n",
       "      <td>False</td>\n",
       "      <td>False</td>\n",
       "      <td>False</td>\n",
       "      <td>False</td>\n",
       "      <td>False</td>\n",
       "      <td>False</td>\n",
       "      <td>False</td>\n",
       "      <td>False</td>\n",
       "      <td>False</td>\n",
       "      <td>False</td>\n",
       "      <td>False</td>\n",
       "      <td>False</td>\n",
       "      <td>False</td>\n",
       "    </tr>\n",
       "    <tr>\n",
       "      <th>4</th>\n",
       "      <td>False</td>\n",
       "      <td>False</td>\n",
       "      <td>False</td>\n",
       "      <td>False</td>\n",
       "      <td>False</td>\n",
       "      <td>False</td>\n",
       "      <td>False</td>\n",
       "      <td>False</td>\n",
       "      <td>False</td>\n",
       "      <td>False</td>\n",
       "      <td>False</td>\n",
       "      <td>False</td>\n",
       "      <td>False</td>\n",
       "      <td>False</td>\n",
       "      <td>False</td>\n",
       "    </tr>\n",
       "    <tr>\n",
       "      <th>...</th>\n",
       "      <td>...</td>\n",
       "      <td>...</td>\n",
       "      <td>...</td>\n",
       "      <td>...</td>\n",
       "      <td>...</td>\n",
       "      <td>...</td>\n",
       "      <td>...</td>\n",
       "      <td>...</td>\n",
       "      <td>...</td>\n",
       "      <td>...</td>\n",
       "      <td>...</td>\n",
       "      <td>...</td>\n",
       "      <td>...</td>\n",
       "      <td>...</td>\n",
       "      <td>...</td>\n",
       "    </tr>\n",
       "    <tr>\n",
       "      <th>915</th>\n",
       "      <td>False</td>\n",
       "      <td>False</td>\n",
       "      <td>False</td>\n",
       "      <td>False</td>\n",
       "      <td>False</td>\n",
       "      <td>False</td>\n",
       "      <td>False</td>\n",
       "      <td>False</td>\n",
       "      <td>False</td>\n",
       "      <td>False</td>\n",
       "      <td>False</td>\n",
       "      <td>True</td>\n",
       "      <td>True</td>\n",
       "      <td>True</td>\n",
       "      <td>False</td>\n",
       "    </tr>\n",
       "    <tr>\n",
       "      <th>916</th>\n",
       "      <td>False</td>\n",
       "      <td>False</td>\n",
       "      <td>False</td>\n",
       "      <td>False</td>\n",
       "      <td>False</td>\n",
       "      <td>False</td>\n",
       "      <td>False</td>\n",
       "      <td>False</td>\n",
       "      <td>False</td>\n",
       "      <td>False</td>\n",
       "      <td>False</td>\n",
       "      <td>False</td>\n",
       "      <td>True</td>\n",
       "      <td>True</td>\n",
       "      <td>False</td>\n",
       "    </tr>\n",
       "    <tr>\n",
       "      <th>917</th>\n",
       "      <td>False</td>\n",
       "      <td>False</td>\n",
       "      <td>False</td>\n",
       "      <td>False</td>\n",
       "      <td>False</td>\n",
       "      <td>False</td>\n",
       "      <td>False</td>\n",
       "      <td>False</td>\n",
       "      <td>False</td>\n",
       "      <td>False</td>\n",
       "      <td>False</td>\n",
       "      <td>False</td>\n",
       "      <td>True</td>\n",
       "      <td>True</td>\n",
       "      <td>False</td>\n",
       "    </tr>\n",
       "    <tr>\n",
       "      <th>918</th>\n",
       "      <td>False</td>\n",
       "      <td>False</td>\n",
       "      <td>False</td>\n",
       "      <td>False</td>\n",
       "      <td>False</td>\n",
       "      <td>False</td>\n",
       "      <td>False</td>\n",
       "      <td>False</td>\n",
       "      <td>False</td>\n",
       "      <td>False</td>\n",
       "      <td>False</td>\n",
       "      <td>False</td>\n",
       "      <td>True</td>\n",
       "      <td>False</td>\n",
       "      <td>False</td>\n",
       "    </tr>\n",
       "    <tr>\n",
       "      <th>919</th>\n",
       "      <td>False</td>\n",
       "      <td>False</td>\n",
       "      <td>False</td>\n",
       "      <td>False</td>\n",
       "      <td>False</td>\n",
       "      <td>False</td>\n",
       "      <td>False</td>\n",
       "      <td>False</td>\n",
       "      <td>False</td>\n",
       "      <td>False</td>\n",
       "      <td>False</td>\n",
       "      <td>False</td>\n",
       "      <td>True</td>\n",
       "      <td>True</td>\n",
       "      <td>False</td>\n",
       "    </tr>\n",
       "  </tbody>\n",
       "</table>\n",
       "<p>920 rows × 15 columns</p>\n",
       "</div>"
      ],
      "text/plain": [
       "      site    age  is_male  chest_pain  rest_blood_press  cholesterol  \\\n",
       "0    False  False    False       False             False        False   \n",
       "1    False  False    False       False             False        False   \n",
       "2    False  False    False       False             False        False   \n",
       "3    False  False    False       False             False        False   \n",
       "4    False  False    False       False             False        False   \n",
       "..     ...    ...      ...         ...               ...          ...   \n",
       "915  False  False    False       False             False        False   \n",
       "916  False  False    False       False             False        False   \n",
       "917  False  False    False       False             False        False   \n",
       "918  False  False    False       False             False        False   \n",
       "919  False  False    False       False             False        False   \n",
       "\n",
       "     high_blood_sugar  rest_ecg  max_heart_rate  exer_angina  ST_depression  \\\n",
       "0               False     False           False        False          False   \n",
       "1               False     False           False        False          False   \n",
       "2               False     False           False        False          False   \n",
       "3               False     False           False        False          False   \n",
       "4               False     False           False        False          False   \n",
       "..                ...       ...             ...          ...            ...   \n",
       "915             False     False           False        False          False   \n",
       "916             False     False           False        False          False   \n",
       "917             False     False           False        False          False   \n",
       "918             False     False           False        False          False   \n",
       "919             False     False           False        False          False   \n",
       "\n",
       "     Peak_ST_seg  major_vessels   thal  has_heart_disease  \n",
       "0          False          False  False              False  \n",
       "1          False          False  False              False  \n",
       "2          False          False  False              False  \n",
       "3          False          False  False              False  \n",
       "4          False          False  False              False  \n",
       "..           ...            ...    ...                ...  \n",
       "915         True           True   True              False  \n",
       "916        False           True   True              False  \n",
       "917        False           True   True              False  \n",
       "918        False           True  False              False  \n",
       "919        False           True   True              False  \n",
       "\n",
       "[920 rows x 15 columns]"
      ]
     },
     "execution_count": 8,
     "metadata": {},
     "output_type": "execute_result"
    }
   ],
   "source": [
    "df.isna()"
   ]
  },
  {
   "cell_type": "raw",
   "id": "1fff6441-6d4f-463c-900c-02fa4df79eb9",
   "metadata": {},
   "source": [
    "Cela signifie qu'aucune des variables n'a de valeurs manquantes dans le DataFrame."
   ]
  },
  {
   "cell_type": "code",
   "execution_count": 9,
   "id": "82996fba-880b-47fc-884d-d349fa4447c8",
   "metadata": {},
   "outputs": [],
   "source": [
    "# suppression de la colonne 'site'\n",
    "df.drop('site',axis=1, inplace=True)"
   ]
  },
  {
   "cell_type": "raw",
   "id": "4277ceda-0af8-45e7-be89-84f2c445e087",
   "metadata": {},
   "source": [
    "Après l'exécution de cette commande, la colonne 'site' sera supprimée du DataFrame df"
   ]
  },
  {
   "cell_type": "code",
   "execution_count": 10,
   "id": "f8c055a4-b392-4449-98a1-aa1a2374db15",
   "metadata": {},
   "outputs": [
    {
     "name": "stdout",
     "output_type": "stream",
     "text": [
      "<class 'pandas.core.frame.DataFrame'>\n",
      "RangeIndex: 920 entries, 0 to 919\n",
      "Data columns (total 14 columns):\n",
      " #   Column             Non-Null Count  Dtype \n",
      "---  ------             --------------  ----- \n",
      " 0   age                920 non-null    int64 \n",
      " 1   is_male            920 non-null    int64 \n",
      " 2   chest_pain         920 non-null    int64 \n",
      " 3   rest_blood_press   861 non-null    object\n",
      " 4   cholesterol        890 non-null    object\n",
      " 5   high_blood_sugar   830 non-null    object\n",
      " 6   rest_ecg           918 non-null    object\n",
      " 7   max_heart_rate     865 non-null    object\n",
      " 8   exer_angina        865 non-null    object\n",
      " 9   ST_depression      858 non-null    object\n",
      " 10  Peak_ST_seg        611 non-null    object\n",
      " 11  major_vessels      309 non-null    object\n",
      " 12  thal               434 non-null    object\n",
      " 13  has_heart_disease  920 non-null    int64 \n",
      "dtypes: int64(4), object(10)\n",
      "memory usage: 100.8+ KB\n"
     ]
    }
   ],
   "source": [
    "df.info()"
   ]
  },
  {
   "cell_type": "raw",
   "id": "bbafc7b6-35dc-4c04-bfb4-3853b8a03c3e",
   "metadata": {},
   "source": [
    "Après avoir supprimé la colonne 'site' du DataFrame, les informations obtenues à l'aide de df.info() montrent les détails mis à jour sur les variables"
   ]
  },
  {
   "cell_type": "code",
   "execution_count": 11,
   "id": "8de74b96-c7d8-4f26-aa29-ee45f32b5619",
   "metadata": {},
   "outputs": [
    {
     "data": {
      "text/plain": [
       "(920, 14)"
      ]
     },
     "execution_count": 11,
     "metadata": {},
     "output_type": "execute_result"
    }
   ],
   "source": [
    "df.shape"
   ]
  },
  {
   "cell_type": "raw",
   "id": "aa50042d-e6b9-44ea-8de1-54d2db420172",
   "metadata": {},
   "source": [
    "le résultat de df.shape indiquera qu'il y a 920 lignes et 14 colonnes dans le DataFrame. Cela signifie qu'il y a 920 entrées (observations) et 14 variables (attributs) dans les données."
   ]
  },
  {
   "cell_type": "code",
   "execution_count": 12,
   "id": "26775b0d-a076-4215-94dd-97f811753b3e",
   "metadata": {},
   "outputs": [
    {
     "data": {
      "text/html": [
       "<div>\n",
       "<style scoped>\n",
       "    .dataframe tbody tr th:only-of-type {\n",
       "        vertical-align: middle;\n",
       "    }\n",
       "\n",
       "    .dataframe tbody tr th {\n",
       "        vertical-align: top;\n",
       "    }\n",
       "\n",
       "    .dataframe thead th {\n",
       "        text-align: right;\n",
       "    }\n",
       "</style>\n",
       "<table border=\"1\" class=\"dataframe\">\n",
       "  <thead>\n",
       "    <tr style=\"text-align: right;\">\n",
       "      <th></th>\n",
       "      <th>age</th>\n",
       "      <th>is_male</th>\n",
       "      <th>chest_pain</th>\n",
       "      <th>has_heart_disease</th>\n",
       "    </tr>\n",
       "  </thead>\n",
       "  <tbody>\n",
       "    <tr>\n",
       "      <th>count</th>\n",
       "      <td>920.000000</td>\n",
       "      <td>920.000000</td>\n",
       "      <td>920.000000</td>\n",
       "      <td>920.000000</td>\n",
       "    </tr>\n",
       "    <tr>\n",
       "      <th>mean</th>\n",
       "      <td>53.510870</td>\n",
       "      <td>0.789130</td>\n",
       "      <td>3.250000</td>\n",
       "      <td>0.995652</td>\n",
       "    </tr>\n",
       "    <tr>\n",
       "      <th>std</th>\n",
       "      <td>9.424685</td>\n",
       "      <td>0.408148</td>\n",
       "      <td>0.930969</td>\n",
       "      <td>1.142693</td>\n",
       "    </tr>\n",
       "    <tr>\n",
       "      <th>min</th>\n",
       "      <td>28.000000</td>\n",
       "      <td>0.000000</td>\n",
       "      <td>1.000000</td>\n",
       "      <td>0.000000</td>\n",
       "    </tr>\n",
       "    <tr>\n",
       "      <th>25%</th>\n",
       "      <td>47.000000</td>\n",
       "      <td>1.000000</td>\n",
       "      <td>3.000000</td>\n",
       "      <td>0.000000</td>\n",
       "    </tr>\n",
       "    <tr>\n",
       "      <th>50%</th>\n",
       "      <td>54.000000</td>\n",
       "      <td>1.000000</td>\n",
       "      <td>4.000000</td>\n",
       "      <td>1.000000</td>\n",
       "    </tr>\n",
       "    <tr>\n",
       "      <th>75%</th>\n",
       "      <td>60.000000</td>\n",
       "      <td>1.000000</td>\n",
       "      <td>4.000000</td>\n",
       "      <td>2.000000</td>\n",
       "    </tr>\n",
       "    <tr>\n",
       "      <th>max</th>\n",
       "      <td>77.000000</td>\n",
       "      <td>1.000000</td>\n",
       "      <td>4.000000</td>\n",
       "      <td>4.000000</td>\n",
       "    </tr>\n",
       "  </tbody>\n",
       "</table>\n",
       "</div>"
      ],
      "text/plain": [
       "              age     is_male  chest_pain  has_heart_disease\n",
       "count  920.000000  920.000000  920.000000         920.000000\n",
       "mean    53.510870    0.789130    3.250000           0.995652\n",
       "std      9.424685    0.408148    0.930969           1.142693\n",
       "min     28.000000    0.000000    1.000000           0.000000\n",
       "25%     47.000000    1.000000    3.000000           0.000000\n",
       "50%     54.000000    1.000000    4.000000           1.000000\n",
       "75%     60.000000    1.000000    4.000000           2.000000\n",
       "max     77.000000    1.000000    4.000000           4.000000"
      ]
     },
     "execution_count": 12,
     "metadata": {},
     "output_type": "execute_result"
    }
   ],
   "source": [
    "# statistiques descriptives des données\n",
    "df.describe()"
   ]
  },
  {
   "cell_type": "raw",
   "id": "1288ae84-9447-4ea7-8b7f-bab68f5890b3",
   "metadata": {},
   "source": [
    "La commande df.describe() fournit un résumé statistique des variables numériques dans le DataFrame.\n",
    "\n",
    "age :\n",
    "\n",
    "La moyenne d'âge des patients est d'environ 53 ans.\n",
    "L'écart-type est d'environ 9,42 ans, ce qui indique la dispersion des âges autour de la moyenne.\n",
    "L'âge minimum est de 28 ans, tandis que l'âge maximum est de 77 ans.\n",
    "Les quartiles (25e, 50e et 75e) fournissent des informations sur la distribution de l'âge dans les données.\n",
    "\n",
    "is_male :\n",
    "\n",
    "Il s'agit d'une variable binaire indiquant le sexe des patients, où 0 représente une femme et 1 représente un homme.\n",
    "La moyenne est d'environ 0,79, ce qui suggère qu'environ 79 % des patients sont des hommes.\n",
    "\n",
    "chest_pain :\n",
    "\n",
    "Il s'agit d'une variable catégorielle représentant le type de douleur thoracique ressentie par les patients.\n",
    "La moyenne est d'environ 3,25, ce qui indique une tendance vers des niveaux plus élevés de douleur thoracique.\n",
    "Les valeurs minimale et maximale de 1 à 4 représentent différents types de douleur thoracique.\n",
    "\n",
    "has_heart_disease :\n",
    "\n",
    "Il s'agit d'une variable catégorielle représentant la présence de maladie cardiaque.\n",
    "Les statistiques fournies montrent la distribution de la gravité de la maladie cardiaque, allant de 0 à 4."
   ]
  },
  {
   "cell_type": "code",
   "execution_count": 13,
   "id": "49f8952c-a0aa-46fd-852c-603398a8e5af",
   "metadata": {},
   "outputs": [
    {
     "data": {
      "text/html": [
       "<div>\n",
       "<style scoped>\n",
       "    .dataframe tbody tr th:only-of-type {\n",
       "        vertical-align: middle;\n",
       "    }\n",
       "\n",
       "    .dataframe tbody tr th {\n",
       "        vertical-align: top;\n",
       "    }\n",
       "\n",
       "    .dataframe thead th {\n",
       "        text-align: right;\n",
       "    }\n",
       "</style>\n",
       "<table border=\"1\" class=\"dataframe\">\n",
       "  <thead>\n",
       "    <tr style=\"text-align: right;\">\n",
       "      <th></th>\n",
       "      <th>age</th>\n",
       "    </tr>\n",
       "  </thead>\n",
       "  <tbody>\n",
       "    <tr>\n",
       "      <th>count</th>\n",
       "      <td>920.000000</td>\n",
       "    </tr>\n",
       "    <tr>\n",
       "      <th>mean</th>\n",
       "      <td>53.510870</td>\n",
       "    </tr>\n",
       "    <tr>\n",
       "      <th>std</th>\n",
       "      <td>9.424685</td>\n",
       "    </tr>\n",
       "    <tr>\n",
       "      <th>min</th>\n",
       "      <td>28.000000</td>\n",
       "    </tr>\n",
       "    <tr>\n",
       "      <th>25%</th>\n",
       "      <td>47.000000</td>\n",
       "    </tr>\n",
       "    <tr>\n",
       "      <th>50%</th>\n",
       "      <td>54.000000</td>\n",
       "    </tr>\n",
       "    <tr>\n",
       "      <th>75%</th>\n",
       "      <td>60.000000</td>\n",
       "    </tr>\n",
       "    <tr>\n",
       "      <th>max</th>\n",
       "      <td>77.000000</td>\n",
       "    </tr>\n",
       "  </tbody>\n",
       "</table>\n",
       "</div>"
      ],
      "text/plain": [
       "              age\n",
       "count  920.000000\n",
       "mean    53.510870\n",
       "std      9.424685\n",
       "min     28.000000\n",
       "25%     47.000000\n",
       "50%     54.000000\n",
       "75%     60.000000\n",
       "max     77.000000"
      ]
     },
     "execution_count": 13,
     "metadata": {},
     "output_type": "execute_result"
    }
   ],
   "source": [
    "df[['age']].describe()"
   ]
  },
  {
   "cell_type": "raw",
   "id": "e68b5c01-8dc9-411a-9007-41c7a342e330",
   "metadata": {},
   "source": [
    "La commande df[['age']].describe() fournit un résumé statistique spécifiquement pour la variable 'age' dans le DataFrame. \n",
    "\n",
    "Il y a 920 observations (patients) pour la variable 'age'.\n",
    "La moyenne d'âge des patients est d'environ 53,51 ans.\n",
    "L'écart-type est d'environ 9,42 ans, ce qui indique la dispersion des âges autour de la moyenne.\n",
    "L'âge minimum observé est de 28 ans, tandis que l'âge maximum est de 77 ans.\n",
    "Les quartiles (25e, 50e et 75e) fournissent des informations sur la distribution des âges dans les données."
   ]
  },
  {
   "cell_type": "code",
   "execution_count": 14,
   "id": "4d097ae3-9336-49aa-83a3-27c6812aa881",
   "metadata": {},
   "outputs": [
    {
     "data": {
      "text/html": [
       "<div>\n",
       "<style scoped>\n",
       "    .dataframe tbody tr th:only-of-type {\n",
       "        vertical-align: middle;\n",
       "    }\n",
       "\n",
       "    .dataframe tbody tr th {\n",
       "        vertical-align: top;\n",
       "    }\n",
       "\n",
       "    .dataframe thead th {\n",
       "        text-align: right;\n",
       "    }\n",
       "</style>\n",
       "<table border=\"1\" class=\"dataframe\">\n",
       "  <thead>\n",
       "    <tr style=\"text-align: right;\">\n",
       "      <th></th>\n",
       "      <th>age</th>\n",
       "      <th>is_male</th>\n",
       "      <th>chest_pain</th>\n",
       "      <th>has_heart_disease</th>\n",
       "    </tr>\n",
       "  </thead>\n",
       "  <tbody>\n",
       "    <tr>\n",
       "      <th>count</th>\n",
       "      <td>411.000000</td>\n",
       "      <td>411.000000</td>\n",
       "      <td>411.000000</td>\n",
       "      <td>411.0</td>\n",
       "    </tr>\n",
       "    <tr>\n",
       "      <th>mean</th>\n",
       "      <td>50.547445</td>\n",
       "      <td>0.649635</td>\n",
       "      <td>2.761557</td>\n",
       "      <td>0.0</td>\n",
       "    </tr>\n",
       "    <tr>\n",
       "      <th>std</th>\n",
       "      <td>9.433700</td>\n",
       "      <td>0.477666</td>\n",
       "      <td>0.903425</td>\n",
       "      <td>0.0</td>\n",
       "    </tr>\n",
       "    <tr>\n",
       "      <th>min</th>\n",
       "      <td>28.000000</td>\n",
       "      <td>0.000000</td>\n",
       "      <td>1.000000</td>\n",
       "      <td>0.0</td>\n",
       "    </tr>\n",
       "    <tr>\n",
       "      <th>25%</th>\n",
       "      <td>43.000000</td>\n",
       "      <td>0.000000</td>\n",
       "      <td>2.000000</td>\n",
       "      <td>0.0</td>\n",
       "    </tr>\n",
       "    <tr>\n",
       "      <th>50%</th>\n",
       "      <td>51.000000</td>\n",
       "      <td>1.000000</td>\n",
       "      <td>3.000000</td>\n",
       "      <td>0.0</td>\n",
       "    </tr>\n",
       "    <tr>\n",
       "      <th>75%</th>\n",
       "      <td>57.000000</td>\n",
       "      <td>1.000000</td>\n",
       "      <td>4.000000</td>\n",
       "      <td>0.0</td>\n",
       "    </tr>\n",
       "    <tr>\n",
       "      <th>max</th>\n",
       "      <td>76.000000</td>\n",
       "      <td>1.000000</td>\n",
       "      <td>4.000000</td>\n",
       "      <td>0.0</td>\n",
       "    </tr>\n",
       "  </tbody>\n",
       "</table>\n",
       "</div>"
      ],
      "text/plain": [
       "              age     is_male  chest_pain  has_heart_disease\n",
       "count  411.000000  411.000000  411.000000              411.0\n",
       "mean    50.547445    0.649635    2.761557                0.0\n",
       "std      9.433700    0.477666    0.903425                0.0\n",
       "min     28.000000    0.000000    1.000000                0.0\n",
       "25%     43.000000    0.000000    2.000000                0.0\n",
       "50%     51.000000    1.000000    3.000000                0.0\n",
       "75%     57.000000    1.000000    4.000000                0.0\n",
       "max     76.000000    1.000000    4.000000                0.0"
      ]
     },
     "execution_count": 14,
     "metadata": {},
     "output_type": "execute_result"
    }
   ],
   "source": [
    "df[df.has_heart_disease==0].describe()"
   ]
  },
  {
   "cell_type": "raw",
   "id": "6b858c49-c49a-493b-a20b-003feebd2a6b",
   "metadata": {},
   "source": [
    "La commande df[df.has_heart_disease==0].describe() fournit un résumé statistique spécifiquement pour les observations où la variable 'has_heart_disease' est égale à 0, c'est-à-dire pour les patients qui n'ont pas de maladie cardiaque.\n",
    "\n",
    "Voici une interprétation de chaque mesure pour ces individus :\n",
    "\n",
    "Age :\n",
    "\n",
    "Nombre d'observations : Il y a 411 observations pour les individus sans maladie cardiaque.\n",
    "Moyenne d'âge : Environ 50,55 ans est la moyenne d'âge de ces individus.\n",
    "Écart type : L'écart type d'âge est d'environ 9,43 ans, ce qui indique la dispersion des âges autour de la moyenne.\n",
    "Âge minimum : L'âge le plus bas observé parmi ces individus est de 28 ans.\n",
    "Premier quartile : 25% des individus sans maladie cardiaque ont un âge inférieur ou égal à 43 ans.\n",
    "Médiane : La moitié des individus sans maladie cardiaque ont un âge inférieur ou égal à 51 ans.\n",
    "Troisième quartile : 75% des individus sans maladie cardiaque ont un âge inférieur ou égal à 57 ans.\n",
    "Âge maximum : L'âge le plus élevé observé parmi ces individus est de 76 ans.\n",
    "    \n",
    "Sexe (is_male) :\n",
    "\n",
    "Moyenne de 0,65 : Environ 65% des individus sans maladie cardiaque sont de sexe masculin.\n",
    "Douleur thoracique (chest_pain) :\n",
    "\n",
    "Moyenne de 2,76 : La moyenne de la douleur thoracique pour ces individus est d'environ 2,76."
   ]
  },
  {
   "cell_type": "code",
   "execution_count": 15,
   "id": "bae6856c-2629-4058-bfcb-23490783f59f",
   "metadata": {},
   "outputs": [
    {
     "data": {
      "text/html": [
       "<div>\n",
       "<style scoped>\n",
       "    .dataframe tbody tr th:only-of-type {\n",
       "        vertical-align: middle;\n",
       "    }\n",
       "\n",
       "    .dataframe tbody tr th {\n",
       "        vertical-align: top;\n",
       "    }\n",
       "\n",
       "    .dataframe thead th {\n",
       "        text-align: right;\n",
       "    }\n",
       "</style>\n",
       "<table border=\"1\" class=\"dataframe\">\n",
       "  <thead>\n",
       "    <tr style=\"text-align: right;\">\n",
       "      <th></th>\n",
       "      <th>age</th>\n",
       "      <th>is_male</th>\n",
       "      <th>chest_pain</th>\n",
       "      <th>has_heart_disease</th>\n",
       "    </tr>\n",
       "  </thead>\n",
       "  <tbody>\n",
       "    <tr>\n",
       "      <th>count</th>\n",
       "      <td>265.000000</td>\n",
       "      <td>265.000000</td>\n",
       "      <td>265.000000</td>\n",
       "      <td>265.0</td>\n",
       "    </tr>\n",
       "    <tr>\n",
       "      <th>mean</th>\n",
       "      <td>53.528302</td>\n",
       "      <td>0.886792</td>\n",
       "      <td>3.581132</td>\n",
       "      <td>1.0</td>\n",
       "    </tr>\n",
       "    <tr>\n",
       "      <th>std</th>\n",
       "      <td>8.740371</td>\n",
       "      <td>0.317446</td>\n",
       "      <td>0.813023</td>\n",
       "      <td>0.0</td>\n",
       "    </tr>\n",
       "    <tr>\n",
       "      <th>min</th>\n",
       "      <td>31.000000</td>\n",
       "      <td>0.000000</td>\n",
       "      <td>1.000000</td>\n",
       "      <td>1.0</td>\n",
       "    </tr>\n",
       "    <tr>\n",
       "      <th>25%</th>\n",
       "      <td>48.000000</td>\n",
       "      <td>1.000000</td>\n",
       "      <td>3.000000</td>\n",
       "      <td>1.0</td>\n",
       "    </tr>\n",
       "    <tr>\n",
       "      <th>50%</th>\n",
       "      <td>55.000000</td>\n",
       "      <td>1.000000</td>\n",
       "      <td>4.000000</td>\n",
       "      <td>1.0</td>\n",
       "    </tr>\n",
       "    <tr>\n",
       "      <th>75%</th>\n",
       "      <td>59.000000</td>\n",
       "      <td>1.000000</td>\n",
       "      <td>4.000000</td>\n",
       "      <td>1.0</td>\n",
       "    </tr>\n",
       "    <tr>\n",
       "      <th>max</th>\n",
       "      <td>75.000000</td>\n",
       "      <td>1.000000</td>\n",
       "      <td>4.000000</td>\n",
       "      <td>1.0</td>\n",
       "    </tr>\n",
       "  </tbody>\n",
       "</table>\n",
       "</div>"
      ],
      "text/plain": [
       "              age     is_male  chest_pain  has_heart_disease\n",
       "count  265.000000  265.000000  265.000000              265.0\n",
       "mean    53.528302    0.886792    3.581132                1.0\n",
       "std      8.740371    0.317446    0.813023                0.0\n",
       "min     31.000000    0.000000    1.000000                1.0\n",
       "25%     48.000000    1.000000    3.000000                1.0\n",
       "50%     55.000000    1.000000    4.000000                1.0\n",
       "75%     59.000000    1.000000    4.000000                1.0\n",
       "max     75.000000    1.000000    4.000000                1.0"
      ]
     },
     "execution_count": 15,
     "metadata": {},
     "output_type": "execute_result"
    }
   ],
   "source": [
    "df[df.has_heart_disease==1].describe()"
   ]
  },
  {
   "cell_type": "raw",
   "id": "cba0211c-5f92-4012-abd4-c7b0f867b7b8",
   "metadata": {},
   "source": [
    "La commande df[df.has_heart_disease==1].describe() fournit un résumé statistique spécifiquement pour les observations où la variable 'has_heart_disease' est égale à 1.\n",
    "Voici une interprétation de chaque mesure pour ces individus :\n",
    "\n",
    "Age :\n",
    "\n",
    "Nombre d'observations : Il y a 265 observations pour les individus avec une maladie cardiaque.\n",
    "Moyenne d'âge : Environ 53,53 ans est la moyenne d'âge de ces individus.\n",
    "Écart type : L'écart type d'âge est d'environ 8,74 ans, ce qui indique la dispersion des âges autour de la moyenne.\n",
    "Âge minimum : L'âge le plus bas observé parmi ces individus est de 31 ans.\n",
    "Premier quartile : 25% des individus avec une maladie cardiaque ont un âge inférieur ou égal à 48 ans.\n",
    "Médiane : La moitié des individus avec une maladie cardiaque ont un âge inférieur ou égal à 55 ans.\n",
    "Troisième quartile : 75% des individus avec une maladie cardiaque ont un âge inférieur ou égal à 59 ans.\n",
    "Âge maximum : L'âge le plus élevé observé parmi ces individus est de 75 ans.\n",
    "Sexe (is_male) :\n",
    "\n",
    "Moyenne de 0,89 : Environ 89% des individus avec une maladie cardiaque sont de sexe masculin.\n",
    "Douleur thoracique (chest_pain) :\n",
    "\n",
    "Moyenne de 3,58 : La moyenne de la douleur thoracique pour ces individus est d'environ 3,58."
   ]
  },
  {
   "cell_type": "code",
   "execution_count": 16,
   "id": "d730f4f7-d1b7-49e0-8f19-19d384bec7f6",
   "metadata": {},
   "outputs": [
    {
     "data": {
      "text/html": [
       "<div>\n",
       "<style scoped>\n",
       "    .dataframe tbody tr th:only-of-type {\n",
       "        vertical-align: middle;\n",
       "    }\n",
       "\n",
       "    .dataframe tbody tr th {\n",
       "        vertical-align: top;\n",
       "    }\n",
       "\n",
       "    .dataframe thead th {\n",
       "        text-align: right;\n",
       "    }\n",
       "</style>\n",
       "<table border=\"1\" class=\"dataframe\">\n",
       "  <thead>\n",
       "    <tr style=\"text-align: right;\">\n",
       "      <th></th>\n",
       "      <th>age</th>\n",
       "      <th>is_male</th>\n",
       "      <th>chest_pain</th>\n",
       "      <th>has_heart_disease</th>\n",
       "    </tr>\n",
       "  </thead>\n",
       "  <tbody>\n",
       "    <tr>\n",
       "      <th>count</th>\n",
       "      <td>109.000000</td>\n",
       "      <td>109.000000</td>\n",
       "      <td>109.000000</td>\n",
       "      <td>109.0</td>\n",
       "    </tr>\n",
       "    <tr>\n",
       "      <th>mean</th>\n",
       "      <td>57.577982</td>\n",
       "      <td>0.908257</td>\n",
       "      <td>3.724771</td>\n",
       "      <td>2.0</td>\n",
       "    </tr>\n",
       "    <tr>\n",
       "      <th>std</th>\n",
       "      <td>7.786852</td>\n",
       "      <td>0.289996</td>\n",
       "      <td>0.678664</td>\n",
       "      <td>0.0</td>\n",
       "    </tr>\n",
       "    <tr>\n",
       "      <th>min</th>\n",
       "      <td>38.000000</td>\n",
       "      <td>0.000000</td>\n",
       "      <td>1.000000</td>\n",
       "      <td>2.0</td>\n",
       "    </tr>\n",
       "    <tr>\n",
       "      <th>25%</th>\n",
       "      <td>52.000000</td>\n",
       "      <td>1.000000</td>\n",
       "      <td>4.000000</td>\n",
       "      <td>2.0</td>\n",
       "    </tr>\n",
       "    <tr>\n",
       "      <th>50%</th>\n",
       "      <td>58.000000</td>\n",
       "      <td>1.000000</td>\n",
       "      <td>4.000000</td>\n",
       "      <td>2.0</td>\n",
       "    </tr>\n",
       "    <tr>\n",
       "      <th>75%</th>\n",
       "      <td>63.000000</td>\n",
       "      <td>1.000000</td>\n",
       "      <td>4.000000</td>\n",
       "      <td>2.0</td>\n",
       "    </tr>\n",
       "    <tr>\n",
       "      <th>max</th>\n",
       "      <td>74.000000</td>\n",
       "      <td>1.000000</td>\n",
       "      <td>4.000000</td>\n",
       "      <td>2.0</td>\n",
       "    </tr>\n",
       "  </tbody>\n",
       "</table>\n",
       "</div>"
      ],
      "text/plain": [
       "              age     is_male  chest_pain  has_heart_disease\n",
       "count  109.000000  109.000000  109.000000              109.0\n",
       "mean    57.577982    0.908257    3.724771                2.0\n",
       "std      7.786852    0.289996    0.678664                0.0\n",
       "min     38.000000    0.000000    1.000000                2.0\n",
       "25%     52.000000    1.000000    4.000000                2.0\n",
       "50%     58.000000    1.000000    4.000000                2.0\n",
       "75%     63.000000    1.000000    4.000000                2.0\n",
       "max     74.000000    1.000000    4.000000                2.0"
      ]
     },
     "execution_count": 16,
     "metadata": {},
     "output_type": "execute_result"
    }
   ],
   "source": [
    "df[df.has_heart_disease==2].describe()"
   ]
  },
  {
   "cell_type": "raw",
   "id": "fce33881-de46-426c-a214-ea34e846ff22",
   "metadata": {},
   "source": [
    "La commande df[df.has_heart_disease==2].describe() fournit un résumé statistique spécifiquement pour les observations où la variable 'has_heart_disease' est égale à 2.\n",
    "Voici une interprétation de chaque mesure pour ces individus :\n",
    "\n",
    "Age :\n",
    "Nombre d'observations : Il y a 109 observations pour les individus avec une maladie cardiaque de type 2.\n",
    "Moyenne d'âge : Environ 57,58 ans est la moyenne d'âge de ces individus.\n",
    "Écart type : L'écart type d'âge est d'environ 7,79 ans, ce qui indique la dispersion des âges autour de la moyenne.\n",
    "Âge minimum : L'âge le plus bas observé parmi ces individus est de 38 ans.\n",
    "Premier quartile : 25% des individus avec une maladie cardiaque de type 2 ont un âge inférieur ou égal à 52 ans.\n",
    "Médiane : La moitié des individus avec une maladie cardiaque de type 2 ont un âge inférieur ou égal à 58 ans.\n",
    "Troisième quartile : 75% des individus avec une maladie cardiaque de type 2 ont un âge inférieur ou égal à 63 ans.\n",
    "Âge maximum : L'âge le plus élevé observé parmi ces individus est de 74 ans.\n",
    "Sexe (is_male) :\n",
    "\n",
    "Moyenne de 0,91 : Environ 91% des individus avec une maladie cardiaque de type 2 sont de sexe masculin.\n",
    "Douleur thoracique (chest_pain) :\n",
    "\n",
    "Moyenne de 3,72 : La moyenne de la douleur thoracique pour ces individus est d'environ 3,72."
   ]
  },
  {
   "cell_type": "code",
   "execution_count": 17,
   "id": "2b653862-7dec-49e0-ac46-312419659057",
   "metadata": {},
   "outputs": [
    {
     "data": {
      "text/html": [
       "<div>\n",
       "<style scoped>\n",
       "    .dataframe tbody tr th:only-of-type {\n",
       "        vertical-align: middle;\n",
       "    }\n",
       "\n",
       "    .dataframe tbody tr th {\n",
       "        vertical-align: top;\n",
       "    }\n",
       "\n",
       "    .dataframe thead th {\n",
       "        text-align: right;\n",
       "    }\n",
       "</style>\n",
       "<table border=\"1\" class=\"dataframe\">\n",
       "  <thead>\n",
       "    <tr style=\"text-align: right;\">\n",
       "      <th></th>\n",
       "      <th>age</th>\n",
       "      <th>is_male</th>\n",
       "      <th>chest_pain</th>\n",
       "      <th>has_heart_disease</th>\n",
       "    </tr>\n",
       "  </thead>\n",
       "  <tbody>\n",
       "    <tr>\n",
       "      <th>count</th>\n",
       "      <td>107.000000</td>\n",
       "      <td>107.000000</td>\n",
       "      <td>107.000000</td>\n",
       "      <td>107.0</td>\n",
       "    </tr>\n",
       "    <tr>\n",
       "      <th>mean</th>\n",
       "      <td>59.214953</td>\n",
       "      <td>0.925234</td>\n",
       "      <td>3.691589</td>\n",
       "      <td>3.0</td>\n",
       "    </tr>\n",
       "    <tr>\n",
       "      <th>std</th>\n",
       "      <td>7.990594</td>\n",
       "      <td>0.264252</td>\n",
       "      <td>0.664621</td>\n",
       "      <td>0.0</td>\n",
       "    </tr>\n",
       "    <tr>\n",
       "      <th>min</th>\n",
       "      <td>35.000000</td>\n",
       "      <td>0.000000</td>\n",
       "      <td>1.000000</td>\n",
       "      <td>3.0</td>\n",
       "    </tr>\n",
       "    <tr>\n",
       "      <th>25%</th>\n",
       "      <td>54.000000</td>\n",
       "      <td>1.000000</td>\n",
       "      <td>4.000000</td>\n",
       "      <td>3.0</td>\n",
       "    </tr>\n",
       "    <tr>\n",
       "      <th>50%</th>\n",
       "      <td>60.000000</td>\n",
       "      <td>1.000000</td>\n",
       "      <td>4.000000</td>\n",
       "      <td>3.0</td>\n",
       "    </tr>\n",
       "    <tr>\n",
       "      <th>75%</th>\n",
       "      <td>64.500000</td>\n",
       "      <td>1.000000</td>\n",
       "      <td>4.000000</td>\n",
       "      <td>3.0</td>\n",
       "    </tr>\n",
       "    <tr>\n",
       "      <th>max</th>\n",
       "      <td>77.000000</td>\n",
       "      <td>1.000000</td>\n",
       "      <td>4.000000</td>\n",
       "      <td>3.0</td>\n",
       "    </tr>\n",
       "  </tbody>\n",
       "</table>\n",
       "</div>"
      ],
      "text/plain": [
       "              age     is_male  chest_pain  has_heart_disease\n",
       "count  107.000000  107.000000  107.000000              107.0\n",
       "mean    59.214953    0.925234    3.691589                3.0\n",
       "std      7.990594    0.264252    0.664621                0.0\n",
       "min     35.000000    0.000000    1.000000                3.0\n",
       "25%     54.000000    1.000000    4.000000                3.0\n",
       "50%     60.000000    1.000000    4.000000                3.0\n",
       "75%     64.500000    1.000000    4.000000                3.0\n",
       "max     77.000000    1.000000    4.000000                3.0"
      ]
     },
     "execution_count": 17,
     "metadata": {},
     "output_type": "execute_result"
    }
   ],
   "source": [
    "df[df.has_heart_disease==3].describe()\n"
   ]
  },
  {
   "cell_type": "raw",
   "id": "1a4a7dff-d902-4fec-9756-5728a5704820",
   "metadata": {},
   "source": [
    "La commande df[df.has_heart_disease==3].describe() fournit un résumé statistique spécifiquement pour les observations où la variable 'has_heart_disease' est égale à 3.\n",
    "Voici une interprétation de chaque mesure pour ces individus :\n",
    "\n",
    "Âge :\n",
    "\n",
    "Nombre d'observations : Il y a 107 observations pour les individus avec une maladie cardiaque de type 3.\n",
    "Moyenne d'âge : Environ 59,21 ans est la moyenne d'âge de ces individus.\n",
    "Écart type : L'écart type d'âge est d'environ 7,99 ans, ce qui indique la dispersion des âges autour de la moyenne.\n",
    "Âge minimum : L'âge le plus bas observé parmi ces individus est de 35 ans.\n",
    "Premier quartile : 25% des individus avec une maladie cardiaque de type 3 ont un âge inférieur ou égal à 54 ans.\n",
    "Médiane : La moitié des individus avec une maladie cardiaque de type 3 ont un âge inférieur ou égal à 60 ans.\n",
    "Troisième quartile : 75% des individus avec une maladie cardiaque de type 3 ont un âge inférieur ou égal à 64,5 ans.\n",
    "Âge maximum : L'âge le plus élevé observé parmi ces individus est de 77 ans.\n",
    "Sexe (is_male) :\n",
    "\n",
    "Moyenne de 0,93 : Environ 93% des individus avec une maladie cardiaque de type 3 sont de sexe masculin.\n",
    "Douleur thoracique (chest_pain) :\n",
    "\n",
    "Moyenne de 3,69 : La moyenne de la douleur thoracique pour ces individus est d'environ 3,69."
   ]
  },
  {
   "cell_type": "code",
   "execution_count": 18,
   "id": "f900ac7f-ea21-4f86-ba77-e1dae94773df",
   "metadata": {},
   "outputs": [
    {
     "data": {
      "text/html": [
       "<div>\n",
       "<style scoped>\n",
       "    .dataframe tbody tr th:only-of-type {\n",
       "        vertical-align: middle;\n",
       "    }\n",
       "\n",
       "    .dataframe tbody tr th {\n",
       "        vertical-align: top;\n",
       "    }\n",
       "\n",
       "    .dataframe thead th {\n",
       "        text-align: right;\n",
       "    }\n",
       "</style>\n",
       "<table border=\"1\" class=\"dataframe\">\n",
       "  <thead>\n",
       "    <tr style=\"text-align: right;\">\n",
       "      <th></th>\n",
       "      <th>age</th>\n",
       "      <th>is_male</th>\n",
       "      <th>chest_pain</th>\n",
       "      <th>has_heart_disease</th>\n",
       "    </tr>\n",
       "  </thead>\n",
       "  <tbody>\n",
       "    <tr>\n",
       "      <th>count</th>\n",
       "      <td>28.000000</td>\n",
       "      <td>28.000000</td>\n",
       "      <td>28.000000</td>\n",
       "      <td>28.0</td>\n",
       "    </tr>\n",
       "    <tr>\n",
       "      <th>mean</th>\n",
       "      <td>59.214286</td>\n",
       "      <td>0.928571</td>\n",
       "      <td>3.750000</td>\n",
       "      <td>4.0</td>\n",
       "    </tr>\n",
       "    <tr>\n",
       "      <th>std</th>\n",
       "      <td>8.283661</td>\n",
       "      <td>0.262265</td>\n",
       "      <td>0.645497</td>\n",
       "      <td>0.0</td>\n",
       "    </tr>\n",
       "    <tr>\n",
       "      <th>min</th>\n",
       "      <td>38.000000</td>\n",
       "      <td>0.000000</td>\n",
       "      <td>1.000000</td>\n",
       "      <td>4.0</td>\n",
       "    </tr>\n",
       "    <tr>\n",
       "      <th>25%</th>\n",
       "      <td>55.750000</td>\n",
       "      <td>1.000000</td>\n",
       "      <td>4.000000</td>\n",
       "      <td>4.0</td>\n",
       "    </tr>\n",
       "    <tr>\n",
       "      <th>50%</th>\n",
       "      <td>59.000000</td>\n",
       "      <td>1.000000</td>\n",
       "      <td>4.000000</td>\n",
       "      <td>4.0</td>\n",
       "    </tr>\n",
       "    <tr>\n",
       "      <th>75%</th>\n",
       "      <td>63.250000</td>\n",
       "      <td>1.000000</td>\n",
       "      <td>4.000000</td>\n",
       "      <td>4.0</td>\n",
       "    </tr>\n",
       "    <tr>\n",
       "      <th>max</th>\n",
       "      <td>77.000000</td>\n",
       "      <td>1.000000</td>\n",
       "      <td>4.000000</td>\n",
       "      <td>4.0</td>\n",
       "    </tr>\n",
       "  </tbody>\n",
       "</table>\n",
       "</div>"
      ],
      "text/plain": [
       "             age    is_male  chest_pain  has_heart_disease\n",
       "count  28.000000  28.000000   28.000000               28.0\n",
       "mean   59.214286   0.928571    3.750000                4.0\n",
       "std     8.283661   0.262265    0.645497                0.0\n",
       "min    38.000000   0.000000    1.000000                4.0\n",
       "25%    55.750000   1.000000    4.000000                4.0\n",
       "50%    59.000000   1.000000    4.000000                4.0\n",
       "75%    63.250000   1.000000    4.000000                4.0\n",
       "max    77.000000   1.000000    4.000000                4.0"
      ]
     },
     "execution_count": 18,
     "metadata": {},
     "output_type": "execute_result"
    }
   ],
   "source": [
    "df[df.has_heart_disease==4].describe()\n"
   ]
  },
  {
   "cell_type": "raw",
   "id": "ae745274-8a0e-4475-b6e9-e8877374b4b5",
   "metadata": {},
   "source": [
    "La commande df[df.has_heart_disease==4].describe() fournit un résumé statistique spécifiquement pour les observations où la variable 'has_heart_disease' est égale à 4.\n",
    "Voici une interprétation de chaque mesure pour ces individus :\n",
    "Âge :\n",
    "\n",
    "Nombre d'observations : Il y a 28 observations pour les individus avec une maladie cardiaque de type 4.\n",
    "Moyenne d'âge : Environ 59,21 ans est la moyenne d'âge de ces individus.\n",
    "Écart type : L'écart type d'âge est d'environ 8,28 ans, ce qui indique la dispersion des âges autour de la moyenne.\n",
    "Âge minimum : L'âge le plus bas observé parmi ces individus est de 38 ans.\n",
    "Premier quartile : 25% des individus avec une maladie cardiaque de type 4 ont un âge inférieur ou égal à 55,75 ans.\n",
    "Médiane : La moitié des individus avec une maladie cardiaque de type 4 ont un âge inférieur ou égal à 59 ans.\n",
    "Troisième quartile : 75% des individus avec une maladie cardiaque de type 4 ont un âge inférieur ou égal à 63,25 ans.\n",
    "Âge maximum : L'âge le plus élevé observé parmi ces individus est de 77 ans.\n",
    "Sexe (is_male) :\n",
    "\n",
    "Moyenne de 0,93 : Environ 93% des individus avec une maladie cardiaque de type 4 sont de sexe masculin.\n",
    "Douleur thoracique (chest_pain) :\n",
    "\n",
    "Moyenne de 3,75 : La moyenne de la douleur thoracique pour ces individus est d'environ 3,75."
   ]
  },
  {
   "cell_type": "markdown",
   "id": "713eae23-1f35-4f4a-a4c1-d9de896dff5a",
   "metadata": {},
   "source": [
    "### 1.2 visualisation des donnees \n",
    "#### destribution des donnees attribut etiqutes "
   ]
  },
  {
   "cell_type": "raw",
   "id": "3567a561",
   "metadata": {},
   "source": [
    "Compter les occurrences des catégories : La fonction countplot() compte le nombre d'occurrences de chaque catégorie dans une variable catégorielle spécifiée et affiche ces comptes sous forme de diagramme à barres."
   ]
  },
  {
   "cell_type": "code",
   "execution_count": 19,
   "id": "f624e590-0a3d-4ca3-a748-3a11a873593c",
   "metadata": {},
   "outputs": [
    {
     "data": {
      "text/plain": [
       "<Axes: xlabel='has_heart_disease', ylabel='count'>"
      ]
     },
     "execution_count": 19,
     "metadata": {},
     "output_type": "execute_result"
    },
    {
     "data": {
      "image/png": "[encoded data removed]",
      "text/plain": [
       "<Figure size 640x480 with 1 Axes>"
      ]
     },
     "metadata": {},
     "output_type": "display_data"
    }
   ],
   "source": [
    "sns.countplot(x=\"has_heart_disease\", hue=\"has_heart_disease\", data=df, palette='magma')"
   ]
  },
  {
   "cell_type": "markdown",
   "id": "d73f6ff6-ad97-4223-8e07-db4a8114f43a",
   "metadata": {},
   "source": [
    "#### Matrie de correlation"
   ]
  },
  {
   "cell_type": "raw",
   "id": "9ce2e503",
   "metadata": {},
   "source": [
    "la fonction heatmap de la bibliothèque Seaborn pour créer une représentation graphique de la corrélation entre les différentes variables de votre DataFrame."
   ]
  },
  {
   "cell_type": "code",
   "execution_count": 20,
   "id": "dd4547c3-d7fb-4f18-9f13-fcca120d12ce",
   "metadata": {},
   "outputs": [
    {
     "data": {
      "text/plain": [
       "<Axes: >"
      ]
     },
     "execution_count": 20,
     "metadata": {},
     "output_type": "execute_result"
    },
    {
     "data": {
      "image/png": "[encoded data removed]",
      "text/plain": [
       "<Figure size 2000x1800 with 2 Axes>"
      ]
     },
     "metadata": {},
     "output_type": "display_data"
    }
   ],
   "source": [
    "# heatmap\n",
    "plt.figure(figsize=(20,18))\n",
    "sns.heatmap(df.corr(), annot=True,linewidths=.5, cmap=\"Greens\")"
   ]
  },
  {
   "cell_type": "markdown",
   "id": "e5fef1c5-b0c3-4336-9357-3bd6d42b2c89",
   "metadata": {},
   "source": [
    "#### Les courbes des nuages de points"
   ]
  },
  {
   "cell_type": "raw",
   "id": "6d506ff7",
   "metadata": {},
   "source": [
    "la fonction pairplot de la bibliothèque Seaborn pour créer une grille de graphiques de dispersion pour visualiser les relations entre les différentes paires de variables du DataFrame."
   ]
  },
  {
   "cell_type": "code",
   "execution_count": 21,
   "id": "3837284e-0fb3-4379-a60a-2d070eb60d5c",
   "metadata": {},
   "outputs": [
    {
     "data": {
      "text/plain": [
       "<seaborn.axisgrid.PairGrid at 0x1b93d8d72f0>"
      ]
     },
     "execution_count": 21,
     "metadata": {},
     "output_type": "execute_result"
    },
    {
     "data": {
      "image/png": "[encoded data removed]",
      "text/plain": [
       "<Figure size 889.361x750 with 12 Axes>"
      ]
     },
     "metadata": {},
     "output_type": "display_data"
    }
   ],
   "source": [
    "sns.pairplot(df, hue='has_heart_disease', palette='muted')"
   ]
  },
  {
   "cell_type": "markdown",
   "id": "454f3f34-bd79-4d40-9b73-257b99f3faa2",
   "metadata": {},
   "source": [
    "# 2. Prétraitement des données et construction de modèles\n",
    "## 2.1 Prétraitement des données ou Encodage des attributs categorielles"
   ]
  },
  {
   "cell_type": "code",
   "execution_count": 22,
   "id": "428019f9-6d8e-47ed-a526-7aaf00ff1938",
   "metadata": {},
   "outputs": [
    {
     "data": {
      "text/plain": [
       "has_heart_disease\n",
       "0    411\n",
       "1    265\n",
       "2    109\n",
       "3    107\n",
       "4     28\n",
       "Name: count, dtype: int64"
      ]
     },
     "execution_count": 22,
     "metadata": {},
     "output_type": "execute_result"
    }
   ],
   "source": [
    "# Nombre de lignes uniques dans la colonne \"has_heart_disease\".\n",
    "df['has_heart_disease'].value_counts()"
   ]
  },
  {
   "cell_type": "raw",
   "id": "f2b898f6-0ba1-403d-8e23-6b26448f5189",
   "metadata": {},
   "source": [
    "La commande df['has_heart_disease'].value_counts() compte le nombre d'occurrences de chaque valeur dans la variable 'has_heart_disease' du DataFrame. \n",
    "\n",
    "Il y a un total de 411 patients sans maladie cardiaque (représenté par la valeur 0).\n",
    "Il y a 265 patients avec une maladie cardiaque de gravité 1 (représenté par la valeur 1).\n",
    "Il y a 109 patients avec une maladie cardiaque de gravité 2 (représenté par la valeur 2).\n",
    "Il y a 107 patients avec une maladie cardiaque de gravité 3 (représenté par la valeur 3).\n",
    "Il y a 28 patients avec une maladie cardiaque de gravité 4 (représenté par la valeur 4)."
   ]
  },
  {
   "cell_type": "code",
   "execution_count": 25,
   "id": "9fc925fe-034d-44ae-85ca-3a6c161e7797",
   "metadata": {},
   "outputs": [],
   "source": [
    "df_clean = df.dropna()"
   ]
  },
  {
   "cell_type": "raw",
   "id": "9e57e986-442f-4d1d-894d-e513bb74e418",
   "metadata": {},
   "source": [
    "La commande df_clean = df.dropna() crée une nouvelle DataFrame appelée df_clean dans laquelle toutes les lignes contenant des valeurs manquantes (NaN) sont supprimées. Cela signifie que seules les observations complètes, sans aucune valeur manquante, seront conservées dans la DataFrame df_clean."
   ]
  },
  {
   "cell_type": "markdown",
   "id": "4b498f36-98f0-4390-aa0d-7e7b1207e321",
   "metadata": {},
   "source": [
    "### 2.2 Diviser les données en données de formation et de test"
   ]
  },
  {
   "cell_type": "code",
   "execution_count": 26,
   "id": "afc98c68-b5c3-42a1-aaff-c77629bd0500",
   "metadata": {},
   "outputs": [
    {
     "name": "stdout",
     "output_type": "stream",
     "text": [
      "Shape of training set: (239, 13)\n",
      "Shape of test set: (60, 13)\n"
     ]
    }
   ],
   "source": [
    "from sklearn.model_selection import train_test_split\n",
    "\n",
    "X=  df_clean.drop('has_heart_disease', axis=1)\n",
    "Y= df_clean['has_heart_disease']\n",
    "# splitting data\n",
    "X_train, X_test, y_train, y_test = train_test_split(\n",
    "                X,\n",
    "                Y,\n",
    "                test_size=0.2,\n",
    "                random_state=84)\n",
    "\n",
    "print(\"Shape of training set:\", X_train.shape)\n",
    "print(\"Shape of test set:\", X_test.shape)\n",
    "\n"
   ]
  },
  {
   "cell_type": "raw",
   "id": "6edcb966-f2f6-47dd-9d79-a6a69c03fbb9",
   "metadata": {},
   "source": [
    "la fonction train_test_split de scikit-learn est utilisé pour diviser les données en ensembles d'entraînement et de test.\n",
    "Les formes indiquent que l'ensemble d'entraînement contient 239 observations et 13 variables, tandis que l'ensemble de test contient 60 observations et 13 variables."
   ]
  },
  {
   "cell_type": "markdown",
   "id": "b2f5cd29-fb37-47c6-9ad0-8818378e66e8",
   "metadata": {},
   "source": [
    "### normaliser les données d'entraînement "
   ]
  },
  {
   "cell_type": "code",
   "execution_count": 27,
   "id": "2a2d0b5e-1c1f-448e-a4e1-ad2999e4d312",
   "metadata": {},
   "outputs": [],
   "source": [
    "from sklearn.preprocessing import StandardScaler\n",
    "\n",
    "ss = StandardScaler()\n",
    "X_train = ss.fit_transform(X_train)\n",
    "X_test = ss.fit_transform(X_test)"
   ]
  },
  {
   "cell_type": "raw",
   "id": "55576e1c-52b0-4cd9-b92c-c1e66b84ab71",
   "metadata": {},
   "source": [
    "la classe StandardScaler de scikit-learn est utilisé pour standardiser les caractéristiques (variables prédictives) en soustrayant la moyenne et en divisant par l'écart type."
   ]
  },
  {
   "cell_type": "markdown",
   "id": "28de026f-6eae-4d6d-86fc-5880f6fddb99",
   "metadata": {},
   "source": [
    "## 2.3 Classification Models\n",
    "### 2.3.1 Logistic Regression"
   ]
  },
  {
   "cell_type": "raw",
   "id": "dffd2668-2589-4566-80ae-9912d0a62c8f",
   "metadata": {},
   "source": [
    "le modèle de régression logistique est utilisé pour modéliser la relation entre une variable dépendante binaire et un ensemble de variables indépendantes, en produisant des prédictions probabilistes sur la catégorie de la variable dépendante."
   ]
  },
  {
   "cell_type": "code",
   "execution_count": 26,
   "id": "b41431dc-f9df-47db-9d70-0d39d334ff4e",
   "metadata": {},
   "outputs": [],
   "source": [
    "from sklearn.linear_model import LogisticRegression\n",
    "\n",
    "# Création et entraînement du modèle\n",
    "logreg = LogisticRegression()\n",
    "logreg.fit(X_train, y_train)\n",
    "\n",
    "# Génération des prédictions pour les données de test\n",
    "predictions1 = logreg.predict(X_test)"
   ]
  },
  {
   "cell_type": "code",
   "execution_count": 27,
   "id": "9ef215df-0cd7-4143-bae8-e3321ac2da7e",
   "metadata": {},
   "outputs": [
    {
     "name": "stdout",
     "output_type": "stream",
     "text": [
      "Confusion Matrix: \n",
      " [[33  1  0  0  0]\n",
      " [ 1  3  2  0  1]\n",
      " [ 2  2  4  2  0]\n",
      " [ 2  0  3  3  1]\n",
      " [ 0  0  0  0  0]]\n",
      "\n",
      "\n",
      "              precision    recall  f1-score   support\n",
      "\n",
      "           0       0.87      0.97      0.92        34\n",
      "           1       0.50      0.43      0.46         7\n",
      "           2       0.44      0.40      0.42        10\n",
      "           3       0.60      0.33      0.43         9\n",
      "           4       0.00      1.00      0.00         0\n",
      "\n",
      "    accuracy                           0.72        60\n",
      "   macro avg       0.48      0.63      0.45        60\n",
      "weighted avg       0.71      0.72      0.71        60\n",
      "\n"
     ]
    }
   ],
   "source": [
    "from sklearn.metrics import confusion_matrix, classification_report\n",
    "print(\"Confusion Matrix: \\n\", confusion_matrix(y_test, predictions1))\n",
    "print('\\n')\n",
    "print(classification_report(y_test, predictions1, zero_division=1))"
   ]
  },
  {
   "cell_type": "raw",
   "id": "7febb6d4-94ef-4df6-94bc-292c7d8ddae4",
   "metadata": {},
   "source": [
    "Confusion Matrix :\n",
    "La matrice de confusion révèle le nombre de prédictions correctes et incorrectes pour chaque classe.\n",
    "La classe 0 a le plus grand nombre de prédictions correctes, tandis que la classe 4 a uniquement des prédictions incorrectes en raison de l'absence d'exemples dans l'ensemble de test.\n",
    "Classification Report :\n",
    "Le rapport de classification fournit des mesures de précision, de rappel et de score F1 pour chaque classe, ainsi que la précision globale, le rappel global et le score F1 global.\n",
    "L'exactitude globale du modèle est de 0.72.\n",
    "Les performances varient selon les classes, avec des valeurs plus élevées pour la classe 0 et des performances plus faibles pour les autres classes, en particulier la classe 4."
   ]
  },
  {
   "cell_type": "code",
   "execution_count": 28,
   "id": "5f214e6d-35c8-4a00-92c5-9e18cb67ecd1",
   "metadata": {},
   "outputs": [
    {
     "name": "stdout",
     "output_type": "stream",
     "text": [
      "Accuracy of the Logistic Regression Model is:  0.7166666666666667\n"
     ]
    }
   ],
   "source": [
    "from sklearn.metrics import accuracy_score\n",
    "\n",
    "logreg_acc = accuracy_score(y_test, predictions1)\n",
    "print(\"Accuracy of the Logistic Regression Model is: \", logreg_acc)"
   ]
  },
  {
   "cell_type": "raw",
   "id": "197fa1e9-cbd6-4e88-9f5b-b61458526688",
   "metadata": {},
   "source": [
    "Le résultat indique que la précision du modèle de régression logistique est d'environ 71.67%. Cela signifie que le modèle a correctement classé environ 71.67% des observations dans l'ensemble de test."
   ]
  },
  {
   "cell_type": "markdown",
   "id": "357acb94-5611-4f37-9f2b-4f303ee27c8a",
   "metadata": {},
   "source": [
    "#### nous avons suivi les étapes du TP réalisé en cours pour développer nos modèles, tout en explorant et intégrant de nouvelles méthodes visant à améliorer le pourcentage d'exactitude."
   ]
  },
  {
   "cell_type": "markdown",
   "id": "3a1f4272-6699-46e3-aecc-2950bddb2234",
   "metadata": {},
   "source": [
    "### Intégration de Méthodes Innovantes pour Maximiser l'Exactitude des Modèles"
   ]
  },
  {
   "cell_type": "code",
   "execution_count": 29,
   "id": "d6d44835-0cb5-4671-a87a-f78c2c6575c9",
   "metadata": {},
   "outputs": [
    {
     "data": {
      "text/html": [
       "<style>#sk-container-id-1 {\n",
       "  /* Definition of color scheme common for light and dark mode */\n",
       "  --sklearn-color-text: black;\n",
       "  --sklearn-color-line: gray;\n",
       "  /* Definition of color scheme for unfitted estimators */\n",
       "  --sklearn-color-unfitted-level-0: #fff5e6;\n",
       "  --sklearn-color-unfitted-level-1: #f6e4d2;\n",
       "  --sklearn-color-unfitted-level-2: #ffe0b3;\n",
       "  --sklearn-color-unfitted-level-3: chocolate;\n",
       "  /* Definition of color scheme for fitted estimators */\n",
       "  --sklearn-color-fitted-level-0: #f0f8ff;\n",
       "  --sklearn-color-fitted-level-1: #d4ebff;\n",
       "  --sklearn-color-fitted-level-2: #b3dbfd;\n",
       "  --sklearn-color-fitted-level-3: cornflowerblue;\n",
       "\n",
       "  /* Specific color for light theme */\n",
       "  --sklearn-color-text-on-default-background: var(--sg-text-color, var(--theme-code-foreground, var(--jp-content-font-color1, black)));\n",
       "  --sklearn-color-background: var(--sg-background-color, var(--theme-background, var(--jp-layout-color0, white)));\n",
       "  --sklearn-color-border-box: var(--sg-text-color, var(--theme-code-foreground, var(--jp-content-font-color1, black)));\n",
       "  --sklearn-color-icon: #696969;\n",
       "\n",
       "  @media (prefers-color-scheme: dark) {\n",
       "    /* Redefinition of color scheme for dark theme */\n",
       "    --sklearn-color-text-on-default-background: var(--sg-text-color, var(--theme-code-foreground, var(--jp-content-font-color1, white)));\n",
       "    --sklearn-color-background: var(--sg-background-color, var(--theme-background, var(--jp-layout-color0, #111)));\n",
       "    --sklearn-color-border-box: var(--sg-text-color, var(--theme-code-foreground, var(--jp-content-font-color1, white)));\n",
       "    --sklearn-color-icon: #878787;\n",
       "  }\n",
       "}\n",
       "\n",
       "#sk-container-id-1 {\n",
       "  color: var(--sklearn-color-text);\n",
       "}\n",
       "\n",
       "#sk-container-id-1 pre {\n",
       "  padding: 0;\n",
       "}\n",
       "\n",
       "#sk-container-id-1 input.sk-hidden--visually {\n",
       "  border: 0;\n",
       "  clip: rect(1px 1px 1px 1px);\n",
       "  clip: rect(1px, 1px, 1px, 1px);\n",
       "  height: 1px;\n",
       "  margin: -1px;\n",
       "  overflow: hidden;\n",
       "  padding: 0;\n",
       "  position: absolute;\n",
       "  width: 1px;\n",
       "}\n",
       "\n",
       "#sk-container-id-1 div.sk-dashed-wrapped {\n",
       "  border: 1px dashed var(--sklearn-color-line);\n",
       "  margin: 0 0.4em 0.5em 0.4em;\n",
       "  box-sizing: border-box;\n",
       "  padding-bottom: 0.4em;\n",
       "  background-color: var(--sklearn-color-background);\n",
       "}\n",
       "\n",
       "#sk-container-id-1 div.sk-container {\n",
       "  /* jupyter's `normalize.less` sets `[hidden] { display: none; }`\n",
       "     but bootstrap.min.css set `[hidden] { display: none !important; }`\n",
       "     so we also need the `!important` here to be able to override the\n",
       "     default hidden behavior on the sphinx rendered scikit-learn.org.\n",
       "     See: https://github.com/scikit-learn/scikit-learn/issues/21755 */\n",
       "  display: inline-block !important;\n",
       "  position: relative;\n",
       "}\n",
       "\n",
       "#sk-container-id-1 div.sk-text-repr-fallback {\n",
       "  display: none;\n",
       "}\n",
       "\n",
       "div.sk-parallel-item,\n",
       "div.sk-serial,\n",
       "div.sk-item {\n",
       "  /* draw centered vertical line to link estimators */\n",
       "  background-image: linear-gradient(var(--sklearn-color-text-on-default-background), var(--sklearn-color-text-on-default-background));\n",
       "  background-size: 2px 100%;\n",
       "  background-repeat: no-repeat;\n",
       "  background-position: center center;\n",
       "}\n",
       "\n",
       "/* Parallel-specific style estimator block */\n",
       "\n",
       "#sk-container-id-1 div.sk-parallel-item::after {\n",
       "  content: \"\";\n",
       "  width: 100%;\n",
       "  border-bottom: 2px solid var(--sklearn-color-text-on-default-background);\n",
       "  flex-grow: 1;\n",
       "}\n",
       "\n",
       "#sk-container-id-1 div.sk-parallel {\n",
       "  display: flex;\n",
       "  align-items: stretch;\n",
       "  justify-content: center;\n",
       "  background-color: var(--sklearn-color-background);\n",
       "  position: relative;\n",
       "}\n",
       "\n",
       "#sk-container-id-1 div.sk-parallel-item {\n",
       "  display: flex;\n",
       "  flex-direction: column;\n",
       "}\n",
       "\n",
       "#sk-container-id-1 div.sk-parallel-item:first-child::after {\n",
       "  align-self: flex-end;\n",
       "  width: 50%;\n",
       "}\n",
       "\n",
       "#sk-container-id-1 div.sk-parallel-item:last-child::after {\n",
       "  align-self: flex-start;\n",
       "  width: 50%;\n",
       "}\n",
       "\n",
       "#sk-container-id-1 div.sk-parallel-item:only-child::after {\n",
       "  width: 0;\n",
       "}\n",
       "\n",
       "/* Serial-specific style estimator block */\n",
       "\n",
       "#sk-container-id-1 div.sk-serial {\n",
       "  display: flex;\n",
       "  flex-direction: column;\n",
       "  align-items: center;\n",
       "  background-color: var(--sklearn-color-background);\n",
       "  padding-right: 1em;\n",
       "  padding-left: 1em;\n",
       "}\n",
       "\n",
       "\n",
       "/* Toggleable style: style used for estimator/Pipeline/ColumnTransformer box that is\n",
       "clickable and can be expanded/collapsed.\n",
       "- Pipeline and ColumnTransformer use this feature and define the default style\n",
       "- Estimators will overwrite some part of the style using the `sk-estimator` class\n",
       "*/\n",
       "\n",
       "/* Pipeline and ColumnTransformer style (default) */\n",
       "\n",
       "#sk-container-id-1 div.sk-toggleable {\n",
       "  /* Default theme specific background. It is overwritten whether we have a\n",
       "  specific estimator or a Pipeline/ColumnTransformer */\n",
       "  background-color: var(--sklearn-color-background);\n",
       "}\n",
       "\n",
       "/* Toggleable label */\n",
       "#sk-container-id-1 label.sk-toggleable__label {\n",
       "  cursor: pointer;\n",
       "  display: block;\n",
       "  width: 100%;\n",
       "  margin-bottom: 0;\n",
       "  padding: 0.5em;\n",
       "  box-sizing: border-box;\n",
       "  text-align: center;\n",
       "}\n",
       "\n",
       "#sk-container-id-1 label.sk-toggleable__label-arrow:before {\n",
       "  /* Arrow on the left of the label */\n",
       "  content: \"▸\";\n",
       "  float: left;\n",
       "  margin-right: 0.25em;\n",
       "  color: var(--sklearn-color-icon);\n",
       "}\n",
       "\n",
       "#sk-container-id-1 label.sk-toggleable__label-arrow:hover:before {\n",
       "  color: var(--sklearn-color-text);\n",
       "}\n",
       "\n",
       "/* Toggleable content - dropdown */\n",
       "\n",
       "#sk-container-id-1 div.sk-toggleable__content {\n",
       "  max-height: 0;\n",
       "  max-width: 0;\n",
       "  overflow: hidden;\n",
       "  text-align: left;\n",
       "  /* unfitted */\n",
       "  background-color: var(--sklearn-color-unfitted-level-0);\n",
       "}\n",
       "\n",
       "#sk-container-id-1 div.sk-toggleable__content.fitted {\n",
       "  /* fitted */\n",
       "  background-color: var(--sklearn-color-fitted-level-0);\n",
       "}\n",
       "\n",
       "#sk-container-id-1 div.sk-toggleable__content pre {\n",
       "  margin: 0.2em;\n",
       "  border-radius: 0.25em;\n",
       "  color: var(--sklearn-color-text);\n",
       "  /* unfitted */\n",
       "  background-color: var(--sklearn-color-unfitted-level-0);\n",
       "}\n",
       "\n",
       "#sk-container-id-1 div.sk-toggleable__content.fitted pre {\n",
       "  /* unfitted */\n",
       "  background-color: var(--sklearn-color-fitted-level-0);\n",
       "}\n",
       "\n",
       "#sk-container-id-1 input.sk-toggleable__control:checked~div.sk-toggleable__content {\n",
       "  /* Expand drop-down */\n",
       "  max-height: 200px;\n",
       "  max-width: 100%;\n",
       "  overflow: auto;\n",
       "}\n",
       "\n",
       "#sk-container-id-1 input.sk-toggleable__control:checked~label.sk-toggleable__label-arrow:before {\n",
       "  content: \"▾\";\n",
       "}\n",
       "\n",
       "/* Pipeline/ColumnTransformer-specific style */\n",
       "\n",
       "#sk-container-id-1 div.sk-label input.sk-toggleable__control:checked~label.sk-toggleable__label {\n",
       "  color: var(--sklearn-color-text);\n",
       "  background-color: var(--sklearn-color-unfitted-level-2);\n",
       "}\n",
       "\n",
       "#sk-container-id-1 div.sk-label.fitted input.sk-toggleable__control:checked~label.sk-toggleable__label {\n",
       "  background-color: var(--sklearn-color-fitted-level-2);\n",
       "}\n",
       "\n",
       "/* Estimator-specific style */\n",
       "\n",
       "/* Colorize estimator box */\n",
       "#sk-container-id-1 div.sk-estimator input.sk-toggleable__control:checked~label.sk-toggleable__label {\n",
       "  /* unfitted */\n",
       "  background-color: var(--sklearn-color-unfitted-level-2);\n",
       "}\n",
       "\n",
       "#sk-container-id-1 div.sk-estimator.fitted input.sk-toggleable__control:checked~label.sk-toggleable__label {\n",
       "  /* fitted */\n",
       "  background-color: var(--sklearn-color-fitted-level-2);\n",
       "}\n",
       "\n",
       "#sk-container-id-1 div.sk-label label.sk-toggleable__label,\n",
       "#sk-container-id-1 div.sk-label label {\n",
       "  /* The background is the default theme color */\n",
       "  color: var(--sklearn-color-text-on-default-background);\n",
       "}\n",
       "\n",
       "/* On hover, darken the color of the background */\n",
       "#sk-container-id-1 div.sk-label:hover label.sk-toggleable__label {\n",
       "  color: var(--sklearn-color-text);\n",
       "  background-color: var(--sklearn-color-unfitted-level-2);\n",
       "}\n",
       "\n",
       "/* Label box, darken color on hover, fitted */\n",
       "#sk-container-id-1 div.sk-label.fitted:hover label.sk-toggleable__label.fitted {\n",
       "  color: var(--sklearn-color-text);\n",
       "  background-color: var(--sklearn-color-fitted-level-2);\n",
       "}\n",
       "\n",
       "/* Estimator label */\n",
       "\n",
       "#sk-container-id-1 div.sk-label label {\n",
       "  font-family: monospace;\n",
       "  font-weight: bold;\n",
       "  display: inline-block;\n",
       "  line-height: 1.2em;\n",
       "}\n",
       "\n",
       "#sk-container-id-1 div.sk-label-container {\n",
       "  text-align: center;\n",
       "}\n",
       "\n",
       "/* Estimator-specific */\n",
       "#sk-container-id-1 div.sk-estimator {\n",
       "  font-family: monospace;\n",
       "  border: 1px dotted var(--sklearn-color-border-box);\n",
       "  border-radius: 0.25em;\n",
       "  box-sizing: border-box;\n",
       "  margin-bottom: 0.5em;\n",
       "  /* unfitted */\n",
       "  background-color: var(--sklearn-color-unfitted-level-0);\n",
       "}\n",
       "\n",
       "#sk-container-id-1 div.sk-estimator.fitted {\n",
       "  /* fitted */\n",
       "  background-color: var(--sklearn-color-fitted-level-0);\n",
       "}\n",
       "\n",
       "/* on hover */\n",
       "#sk-container-id-1 div.sk-estimator:hover {\n",
       "  /* unfitted */\n",
       "  background-color: var(--sklearn-color-unfitted-level-2);\n",
       "}\n",
       "\n",
       "#sk-container-id-1 div.sk-estimator.fitted:hover {\n",
       "  /* fitted */\n",
       "  background-color: var(--sklearn-color-fitted-level-2);\n",
       "}\n",
       "\n",
       "/* Specification for estimator info (e.g. \"i\" and \"?\") */\n",
       "\n",
       "/* Common style for \"i\" and \"?\" */\n",
       "\n",
       ".sk-estimator-doc-link,\n",
       "a:link.sk-estimator-doc-link,\n",
       "a:visited.sk-estimator-doc-link {\n",
       "  float: right;\n",
       "  font-size: smaller;\n",
       "  line-height: 1em;\n",
       "  font-family: monospace;\n",
       "  background-color: var(--sklearn-color-background);\n",
       "  border-radius: 1em;\n",
       "  height: 1em;\n",
       "  width: 1em;\n",
       "  text-decoration: none !important;\n",
       "  margin-left: 1ex;\n",
       "  /* unfitted */\n",
       "  border: var(--sklearn-color-unfitted-level-1) 1pt solid;\n",
       "  color: var(--sklearn-color-unfitted-level-1);\n",
       "}\n",
       "\n",
       ".sk-estimator-doc-link.fitted,\n",
       "a:link.sk-estimator-doc-link.fitted,\n",
       "a:visited.sk-estimator-doc-link.fitted {\n",
       "  /* fitted */\n",
       "  border: var(--sklearn-color-fitted-level-1) 1pt solid;\n",
       "  color: var(--sklearn-color-fitted-level-1);\n",
       "}\n",
       "\n",
       "/* On hover */\n",
       "div.sk-estimator:hover .sk-estimator-doc-link:hover,\n",
       ".sk-estimator-doc-link:hover,\n",
       "div.sk-label-container:hover .sk-estimator-doc-link:hover,\n",
       ".sk-estimator-doc-link:hover {\n",
       "  /* unfitted */\n",
       "  background-color: var(--sklearn-color-unfitted-level-3);\n",
       "  color: var(--sklearn-color-background);\n",
       "  text-decoration: none;\n",
       "}\n",
       "\n",
       "div.sk-estimator.fitted:hover .sk-estimator-doc-link.fitted:hover,\n",
       ".sk-estimator-doc-link.fitted:hover,\n",
       "div.sk-label-container:hover .sk-estimator-doc-link.fitted:hover,\n",
       ".sk-estimator-doc-link.fitted:hover {\n",
       "  /* fitted */\n",
       "  background-color: var(--sklearn-color-fitted-level-3);\n",
       "  color: var(--sklearn-color-background);\n",
       "  text-decoration: none;\n",
       "}\n",
       "\n",
       "/* Span, style for the box shown on hovering the info icon */\n",
       ".sk-estimator-doc-link span {\n",
       "  display: none;\n",
       "  z-index: 9999;\n",
       "  position: relative;\n",
       "  font-weight: normal;\n",
       "  right: .2ex;\n",
       "  padding: .5ex;\n",
       "  margin: .5ex;\n",
       "  width: min-content;\n",
       "  min-width: 20ex;\n",
       "  max-width: 50ex;\n",
       "  color: var(--sklearn-color-text);\n",
       "  box-shadow: 2pt 2pt 4pt #999;\n",
       "  /* unfitted */\n",
       "  background: var(--sklearn-color-unfitted-level-0);\n",
       "  border: .5pt solid var(--sklearn-color-unfitted-level-3);\n",
       "}\n",
       "\n",
       ".sk-estimator-doc-link.fitted span {\n",
       "  /* fitted */\n",
       "  background: var(--sklearn-color-fitted-level-0);\n",
       "  border: var(--sklearn-color-fitted-level-3);\n",
       "}\n",
       "\n",
       ".sk-estimator-doc-link:hover span {\n",
       "  display: block;\n",
       "}\n",
       "\n",
       "/* \"?\"-specific style due to the `<a>` HTML tag */\n",
       "\n",
       "#sk-container-id-1 a.estimator_doc_link {\n",
       "  float: right;\n",
       "  font-size: 1rem;\n",
       "  line-height: 1em;\n",
       "  font-family: monospace;\n",
       "  background-color: var(--sklearn-color-background);\n",
       "  border-radius: 1rem;\n",
       "  height: 1rem;\n",
       "  width: 1rem;\n",
       "  text-decoration: none;\n",
       "  /* unfitted */\n",
       "  color: var(--sklearn-color-unfitted-level-1);\n",
       "  border: var(--sklearn-color-unfitted-level-1) 1pt solid;\n",
       "}\n",
       "\n",
       "#sk-container-id-1 a.estimator_doc_link.fitted {\n",
       "  /* fitted */\n",
       "  border: var(--sklearn-color-fitted-level-1) 1pt solid;\n",
       "  color: var(--sklearn-color-fitted-level-1);\n",
       "}\n",
       "\n",
       "/* On hover */\n",
       "#sk-container-id-1 a.estimator_doc_link:hover {\n",
       "  /* unfitted */\n",
       "  background-color: var(--sklearn-color-unfitted-level-3);\n",
       "  color: var(--sklearn-color-background);\n",
       "  text-decoration: none;\n",
       "}\n",
       "\n",
       "#sk-container-id-1 a.estimator_doc_link.fitted:hover {\n",
       "  /* fitted */\n",
       "  background-color: var(--sklearn-color-fitted-level-3);\n",
       "}\n",
       "</style><div id=\"sk-container-id-1\" class=\"sk-top-container\"><div class=\"sk-text-repr-fallback\"><pre>RandomizedSearchCV(cv=10, estimator=LogisticRegression(), n_iter=100,\n",
       "                   param_distributions={&#x27;C&#x27;: &lt;scipy.stats._distn_infrastructure.rv_continuous_frozen object at 0x0000019602FF9390&gt;,\n",
       "                                        &#x27;penalty&#x27;: [&#x27;l1&#x27;, &#x27;l2&#x27;],\n",
       "                                        &#x27;solver&#x27;: [&#x27;liblinear&#x27;, &#x27;saga&#x27;]})</pre><b>In a Jupyter environment, please rerun this cell to show the HTML representation or trust the notebook. <br />On GitHub, the HTML representation is unable to render, please try loading this page with nbviewer.org.</b></div><div class=\"sk-container\" hidden><div class=\"sk-item sk-dashed-wrapped\"><div class=\"sk-label-container\"><div class=\"sk-label fitted sk-toggleable\"><input class=\"sk-toggleable__control sk-hidden--visually\" id=\"sk-estimator-id-1\" type=\"checkbox\" ><label for=\"sk-estimator-id-1\" class=\"sk-toggleable__label fitted sk-toggleable__label-arrow fitted\">&nbsp;&nbsp;RandomizedSearchCV<a class=\"sk-estimator-doc-link fitted\" rel=\"noreferrer\" target=\"_blank\" href=\"https://scikit-learn.org/1.4/modules/generated/sklearn.model_selection.RandomizedSearchCV.html\">?<span>Documentation for RandomizedSearchCV</span></a><span class=\"sk-estimator-doc-link fitted\">i<span>Fitted</span></span></label><div class=\"sk-toggleable__content fitted\"><pre>RandomizedSearchCV(cv=10, estimator=LogisticRegression(), n_iter=100,\n",
       "                   param_distributions={&#x27;C&#x27;: &lt;scipy.stats._distn_infrastructure.rv_continuous_frozen object at 0x0000019602FF9390&gt;,\n",
       "                                        &#x27;penalty&#x27;: [&#x27;l1&#x27;, &#x27;l2&#x27;],\n",
       "                                        &#x27;solver&#x27;: [&#x27;liblinear&#x27;, &#x27;saga&#x27;]})</pre></div> </div></div><div class=\"sk-parallel\"><div class=\"sk-parallel-item\"><div class=\"sk-item\"><div class=\"sk-label-container\"><div class=\"sk-label fitted sk-toggleable\"><input class=\"sk-toggleable__control sk-hidden--visually\" id=\"sk-estimator-id-2\" type=\"checkbox\" ><label for=\"sk-estimator-id-2\" class=\"sk-toggleable__label fitted sk-toggleable__label-arrow fitted\">estimator: LogisticRegression</label><div class=\"sk-toggleable__content fitted\"><pre>LogisticRegression()</pre></div> </div></div><div class=\"sk-serial\"><div class=\"sk-item\"><div class=\"sk-estimator fitted sk-toggleable\"><input class=\"sk-toggleable__control sk-hidden--visually\" id=\"sk-estimator-id-3\" type=\"checkbox\" ><label for=\"sk-estimator-id-3\" class=\"sk-toggleable__label fitted sk-toggleable__label-arrow fitted\">&nbsp;LogisticRegression<a class=\"sk-estimator-doc-link fitted\" rel=\"noreferrer\" target=\"_blank\" href=\"https://scikit-learn.org/1.4/modules/generated/sklearn.linear_model.LogisticRegression.html\">?<span>Documentation for LogisticRegression</span></a></label><div class=\"sk-toggleable__content fitted\"><pre>LogisticRegression()</pre></div> </div></div></div></div></div></div></div></div></div>"
      ],
      "text/plain": [
       "RandomizedSearchCV(cv=10, estimator=LogisticRegression(), n_iter=100,\n",
       "                   param_distributions={'C': <scipy.stats._distn_infrastructure.rv_continuous_frozen object at 0x0000019602FF9390>,\n",
       "                                        'penalty': ['l1', 'l2'],\n",
       "                                        'solver': ['liblinear', 'saga']})"
      ]
     },
     "execution_count": 29,
     "metadata": {},
     "output_type": "execute_result"
    }
   ],
   "source": [
    "from sklearn.model_selection import RandomizedSearchCV\n",
    "from sklearn.linear_model import LogisticRegression\n",
    "from sklearn.metrics import confusion_matrix, classification_report, accuracy_score\n",
    "from sklearn.model_selection import train_test_split\n",
    "from scipy.stats import uniform\n",
    "import warnings\n",
    "warnings.simplefilter(action='ignore')\n",
    "\n",
    "\n",
    "# Définition des hyperparamètres à optimiser avec une grille plus large\n",
    "param_dist = {\n",
    "    'C': uniform(0.1, 10),  # Distribution uniforme pour C\n",
    "    'penalty': ['l1', 'l2'],  # Choix de la norme de régularisation\n",
    "    'solver': ['liblinear', 'saga']  # Choix de l'algorithme de résolution\n",
    "}\n",
    "\n",
    "# Créer un modèle LogisticRegression\n",
    "lr = LogisticRegression()\n",
    "\n",
    "# Recherche aléatoire avec validation croisée plus fine (cv=10)\n",
    "random_search = RandomizedSearchCV(estimator=lr, param_distributions=param_dist, n_iter=100, cv=10)\n",
    "random_search.fit(X_train, y_train)"
   ]
  },
  {
   "cell_type": "raw",
   "id": "f2c7c02d-199c-409c-82d6-02839771f1b2",
   "metadata": {},
   "source": [
    "Ces résultats montrent l'utilisation des meilleurs hyperparamètres trouvés par la recherche aléatoire avec validation croisée (RandomizedSearchCV) pour créer et évaluer un modèle de régression logistique. "
   ]
  },
  {
   "cell_type": "code",
   "execution_count": 30,
   "id": "eb6112b9-fa1d-44d1-9cac-971d63fd3bc6",
   "metadata": {},
   "outputs": [
    {
     "name": "stdout",
     "output_type": "stream",
     "text": [
      "Best Parameters for Logistic Regression (RandomizedSearchCV): {'C': 0.8286335249104358, 'penalty': 'l1', 'solver': 'saga'}\n",
      "Confusion Matrix for Logistic Regression (RandomizedSearchCV): \n",
      " [[34  0  0  0  0]\n",
      " [ 1  4  1  1  0]\n",
      " [ 2  2  4  2  0]\n",
      " [ 2  0  4  2  1]\n",
      " [ 0  0  0  0  0]]\n",
      "\n",
      "\n",
      "              precision    recall  f1-score   support\n",
      "\n",
      "           0       0.87      1.00      0.93        34\n",
      "           1       0.67      0.57      0.62         7\n",
      "           2       0.44      0.40      0.42        10\n",
      "           3       0.40      0.22      0.29         9\n",
      "           4       0.00      0.00      0.00         0\n",
      "\n",
      "    accuracy                           0.73        60\n",
      "   macro avg       0.48      0.44      0.45        60\n",
      "weighted avg       0.71      0.73      0.71        60\n",
      "\n"
     ]
    }
   ],
   "source": [
    "# Meilleurs hyperparamètres trouvés\n",
    "best_params_lr_random = random_search.best_params_\n",
    "print(\"Best Parameters for Logistic Regression (RandomizedSearchCV):\", best_params_lr_random)\n",
    "\n",
    "# Utilisation des meilleurs hyperparamètres pour créer le modèle\n",
    "best_lr_random = LogisticRegression(**best_params_lr_random)\n",
    "best_lr_random.fit(X_train, y_train)\n",
    "predictions_best_lr_random = best_lr_random.predict(X_test)\n",
    "\n",
    "# Évaluation du modèle avec les meilleurs hyperparamètres trouvés par RandomizedSearchCV\n",
    "print(\"Confusion Matrix for Logistic Regression (RandomizedSearchCV): \\n\", confusion_matrix(y_test, predictions_best_lr_random))\n",
    "print(\"\\n\")\n",
    "print(classification_report(y_test, predictions_best_lr_random))"
   ]
  },
  {
   "cell_type": "raw",
   "id": "304ff8d4-b53d-491a-923b-490a1891361a",
   "metadata": {},
   "source": [
    "Meilleurs hyperparamètres trouvés : Les meilleurs hyperparamètres trouvés par la recherche aléatoire avec validation croisée sont affichés. Dans ce cas, les meilleurs hyperparamètres sont :\n",
    "\n",
    "Coefficient de régularisation C : 0.8286\n",
    "Type de régularisation : l1 (norme de régularisation lasso)\n",
    "Algorithme de résolution : saga\n"
   ]
  },
  {
   "cell_type": "code",
   "execution_count": 31,
   "id": "5852cfb3-776b-4ad4-9497-74ac0a8a8f78",
   "metadata": {},
   "outputs": [
    {
     "name": "stdout",
     "output_type": "stream",
     "text": [
      "Accuracy of Best Logistic Regression Model (RandomizedSearchCV) is:  0.7333333333333333\n"
     ]
    }
   ],
   "source": [
    "best_lr_random_acc = accuracy_score(y_test, predictions_best_lr_random)\n",
    "print(\"Accuracy of Best Logistic Regression Model (RandomizedSearchCV) is: \", best_lr_random_acc)\n"
   ]
  },
  {
   "cell_type": "raw",
   "id": "91895c6a-48ba-42e9-b389-6a23b030d942",
   "metadata": {},
   "source": [
    "La précision du meilleur modèle de régression logistique (obtenu grâce à la recherche aléatoire avec validation croisée) est d'environ 73.33%. Cela signifie que le modèle a correctement classé environ 73.33% des observations dans l'ensemble de test."
   ]
  },
  {
   "cell_type": "markdown",
   "id": "c2a6b3d8-c7d6-48a0-80f9-ffc17114438f",
   "metadata": {},
   "source": [
    "### 2.3.2 K Nearest Neighbours"
   ]
  },
  {
   "cell_type": "raw",
   "id": "07f45f10-1a92-4a93-8fd1-10dbdafbd793",
   "metadata": {},
   "source": [
    "Le modèle des k plus proches voisins (KNN) est un algorithme d'apprentissage supervisé utilisé pour la classification et la régression. L'idée principale derrière le KNN est de prédire la classe ou la valeur cible d'une nouvelle observation en se basant sur les classes ou les valeurs cibles des k exemples d'entraînement les plus proches dans l'espace des caractéristiques."
   ]
  },
  {
   "cell_type": "code",
   "execution_count": 32,
   "id": "c8624b48-997a-4eda-987b-032a34423bd7",
   "metadata": {},
   "outputs": [],
   "source": [
    "from sklearn.neighbors import KNeighborsClassifier"
   ]
  },
  {
   "cell_type": "code",
   "execution_count": 33,
   "id": "265c54ed-72ae-4ded-9bad-54061077a8d5",
   "metadata": {},
   "outputs": [],
   "source": [
    "# pour trouver la valeur qui présente l'erreur moyenne la plus fa\n",
    "error_rate = []\n",
    "\n",
    "for i in range(1,42):\n",
    "    knn = KNeighborsClassifier(n_neighbors=i)\n",
    "    knn.fit(X_train, y_train)\n",
    "    pred_i = knn.predict(X_test)\n",
    "    error_rate.append(np.mean(pred_i != y_test))"
   ]
  },
  {
   "cell_type": "raw",
   "id": "830f3052-505c-4903-b31d-d5298696b1cb",
   "metadata": {},
   "source": [
    "Ce code implémente la recherche de la valeur optimale du paramètre n_neighbors pour le classificateur des k plus proches voisins (KNN)"
   ]
  },
  {
   "cell_type": "code",
   "execution_count": 34,
   "id": "0e982a76-9294-48e8-b4f3-37ff3b0201a1",
   "metadata": {},
   "outputs": [
    {
     "data": {
      "image/png": "[encoded data removed]",
      "text/plain": [
       "<Figure size 1200x600 with 1 Axes>"
      ]
     },
     "metadata": {},
     "output_type": "display_data"
    }
   ],
   "source": [
    "plt.figure(figsize=(12,6))\n",
    "plt.plot(range(1,42), error_rate, color='purple', linestyle=\"--\",\n",
    "         marker='o', markersize=10, markerfacecolor='b')\n",
    "plt.title('Error_Rate vs K-value')\n",
    "plt.show()"
   ]
  },
  {
   "cell_type": "raw",
   "id": "35d2329f-3181-454e-957c-dd9e37a9309d",
   "metadata": {},
   "source": [
    "Ce code trace un graphique représentant le taux d'erreur en fonction de la valeur de n_neighbors pour le modèle des k plus proches voisins (KNN)."
   ]
  },
  {
   "cell_type": "code",
   "execution_count": 35,
   "id": "70366c5b-b244-4280-941c-252b62836909",
   "metadata": {},
   "outputs": [],
   "source": [
    "knn = KNeighborsClassifier(n_neighbors=23)\n",
    "knn.fit(X_train, y_train)\n",
    "predictions2 = knn.predict(X_test)"
   ]
  },
  {
   "cell_type": "raw",
   "id": "96f01dcf-f42f-47dc-b808-9525d2a19d23",
   "metadata": {},
   "source": [
    "Ce code utilise le classificateur des k plus proches voisins (KNN) avec un paramètre n_neighbors fixé à 23 pour effectuer des prédictions sur l'ensemble de test. "
   ]
  },
  {
   "cell_type": "code",
   "execution_count": 36,
   "id": "bf32a68e-7ce1-46bd-bc84-2243935969a1",
   "metadata": {},
   "outputs": [
    {
     "name": "stdout",
     "output_type": "stream",
     "text": [
      "[[34  0  0  0]\n",
      " [ 2  4  0  1]\n",
      " [ 3  4  3  0]\n",
      " [ 4  4  1  0]]\n",
      "\n",
      "\n",
      "              precision    recall  f1-score   support\n",
      "\n",
      "           0       0.79      1.00      0.88        34\n",
      "           1       0.33      0.57      0.42         7\n",
      "           2       0.75      0.30      0.43        10\n",
      "           3       0.00      0.00      0.00         9\n",
      "\n",
      "    accuracy                           0.68        60\n",
      "   macro avg       0.47      0.47      0.43        60\n",
      "weighted avg       0.61      0.68      0.62        60\n",
      "\n"
     ]
    }
   ],
   "source": [
    "print(confusion_matrix(y_test, predictions2))\n",
    "print(\"\\n\")\n",
    "\n",
    "print(classification_report(y_test, predictions2, zero_division=1))\n"
   ]
  },
  {
   "cell_type": "raw",
   "id": "0ce079bf-a00f-4862-ba95-6cad494385d0",
   "metadata": {},
   "source": [
    "Les résultats montrent les performances du modèle KNN avec n_neighbors=23 sur l'ensemble de test. "
   ]
  },
  {
   "cell_type": "code",
   "execution_count": 37,
   "id": "63715c75-5aec-4ac1-bb51-01e092ca0f21",
   "metadata": {},
   "outputs": [
    {
     "name": "stdout",
     "output_type": "stream",
     "text": [
      "Accuracy of K Neighbors Classifier Model is:  0.6833333333333333\n"
     ]
    }
   ],
   "source": [
    "knn_model_acc = accuracy_score(y_test, predictions2)\n",
    "print(\"Accuracy of K Neighbors Classifier Model is: \", knn_model_acc)"
   ]
  },
  {
   "cell_type": "raw",
   "id": "1a0c212c-227b-4a6e-ad49-cdacfb6adac6",
   "metadata": {},
   "source": [
    "La précision du modèle KNN est d'environ 68.33%. Cela signifie que le modèle a correctement classé environ 68.33% des observations dans l'ensemble de test."
   ]
  },
  {
   "cell_type": "markdown",
   "id": "52f71923-5371-4680-8dd7-541a731e9ea9",
   "metadata": {},
   "source": [
    "### 2.3.3 Random Forests"
   ]
  },
  {
   "cell_type": "raw",
   "id": "4de5ac70-af10-4dee-8c17-2962e793d65f",
   "metadata": {},
   "source": [
    "Le modèle de Random Forests est un algorithme d'apprentissage supervisé utilisé pour la classification et la régression. Le Random Forest est construit à partir d'un ensemble d'arbres de décision et tire son nom de deux concepts clés : la \"forêt\" qui fait référence à l'ensemble d'arbres et le \"random\" qui fait référence à la manière dont les arbres sont construits."
   ]
  },
  {
   "cell_type": "code",
   "execution_count": 28,
   "id": "432d607c-b1ca-4c74-8568-5c7a23f69ebf",
   "metadata": {},
   "outputs": [],
   "source": [
    "from sklearn.ensemble import RandomForestClassifier\n",
    "#C'est un hyperparamètre de RandomForestClassifier qui spécifie le nombre d'arbres à utiliser dans la forêt.\n",
    "rfc = RandomForestClassifier(n_estimators=400)\n",
    "rfc.fit(X_train, y_train)\n",
    "predictions4 = rfc.predict(X_test)"
   ]
  },
  {
   "cell_type": "raw",
   "id": "42adf45c-82f2-494a-af7f-278d98113eeb",
   "metadata": {},
   "source": [
    "Ce code utilise la classe RandomForestClassifier de la bibliothèque scikit-learn pour créer un modèle de Random Forest."
   ]
  },
  {
   "cell_type": "code",
   "execution_count": 30,
   "id": "39bfd8ab-79f0-4433-9b76-5ae481b87914",
   "metadata": {},
   "outputs": [
    {
     "name": "stdout",
     "output_type": "stream",
     "text": [
      "Confusion Matrix: \n",
      " [[34  0  0  0  0]\n",
      " [ 3  2  1  1  0]\n",
      " [ 5  2  1  1  1]\n",
      " [ 4  3  2  0  0]\n",
      " [ 0  0  0  0  0]]\n",
      "\n",
      "\n",
      "              precision    recall  f1-score   support\n",
      "\n",
      "           0       0.74      1.00      0.85        34\n",
      "           1       0.29      0.29      0.29         7\n",
      "           2       0.25      0.10      0.14        10\n",
      "           3       0.00      0.00      0.00         9\n",
      "           4       0.00      1.00      0.00         0\n",
      "\n",
      "    accuracy                           0.62        60\n",
      "   macro avg       0.25      0.48      0.26        60\n",
      "weighted avg       0.49      0.62      0.54        60\n",
      "\n"
     ]
    }
   ],
   "source": [
    "from sklearn.metrics import confusion_matrix, classification_report\n",
    "print(\"Confusion Matrix: \\n\", confusion_matrix(y_test, predictions4))\n",
    "print(\"\\n\")\n",
    "print(classification_report(y_test, predictions4, zero_division=1))"
   ]
  },
  {
   "cell_type": "raw",
   "id": "057037f8-5f20-4a9c-a408-fc6a81eebfe7",
   "metadata": {},
   "source": [
    "Ces résultats représentent les performances du modèle de Random Forest sur l'ensemble de test."
   ]
  },
  {
   "cell_type": "code",
   "execution_count": 40,
   "id": "0f661c27-2bf6-4706-9965-08724b93aa7c",
   "metadata": {},
   "outputs": [
    {
     "name": "stdout",
     "output_type": "stream",
     "text": [
      "Accuracy of Random Forests Model is:  0.6666666666666666\n"
     ]
    }
   ],
   "source": [
    "rfc_acc = accuracy_score(y_test, predictions4)\n",
    "print(\"Accuracy of Random Forests Model is: \", rfc_acc)"
   ]
  },
  {
   "cell_type": "raw",
   "id": "435151db-f8a5-40ee-8db6-c6a1b4a2342f",
   "metadata": {},
   "source": [
    "L'exactitude (accuracy) du modèle Random Forests est d'environ 66,67%. Cela signifie que le modèle a correctement classé environ 66,67% des observations dans l'ensemble de test."
   ]
  },
  {
   "cell_type": "markdown",
   "id": "7d81323b-cbc4-4625-ad79-403f4e5975dc",
   "metadata": {},
   "source": [
    "### 2.3.4 DecisionTree"
   ]
  },
  {
   "cell_type": "raw",
   "id": "7bd06ed4-d039-4105-8724-f4fba52e903e",
   "metadata": {},
   "source": [
    "Un modèle d'arbre de décision (Decision Tree) est un algorithme d'apprentissage supervisé utilisé pour la classification et la régression. Il crée une structure d'arbre où chaque nœud interne représente une caractéristique (ou un attribut), chaque branche représente une règle de décision basée sur cette caractéristique, et chaque feuille représente le résultat de la décision. Les arbres de décision sont construits en partitionnant récursivement l'ensemble des données en sous-ensembles homogènes basés sur les caractéristiques d'entrée."
   ]
  },
  {
   "cell_type": "code",
   "execution_count": 42,
   "id": "d32df923-3fa7-4c00-ada6-0690ced2cb07",
   "metadata": {},
   "outputs": [],
   "source": [
    "from sklearn.tree import DecisionTreeClassifier\n",
    "dt=model_Decision = DecisionTreeClassifier(random_state=0)\n",
    "\n",
    "dt.fit(X_train, y_train)\n",
    "predictions6 = dt.predict(X_test)"
   ]
  },
  {
   "cell_type": "code",
   "execution_count": 43,
   "id": "c1e74863-b2d9-4cf1-b795-3e4c470313e3",
   "metadata": {},
   "outputs": [
    {
     "name": "stdout",
     "output_type": "stream",
     "text": [
      "Confusion Matrix: \n",
      " [[26  7  1  0  0]\n",
      " [ 1  3  1  2  0]\n",
      " [ 2  4  1  2  1]\n",
      " [ 3  4  2  0  0]\n",
      " [ 0  0  0  0  0]]\n",
      "\n",
      "\n",
      "              precision    recall  f1-score   support\n",
      "\n",
      "           0       0.81      0.76      0.79        34\n",
      "           1       0.17      0.43      0.24         7\n",
      "           2       0.20      0.10      0.13        10\n",
      "           3       0.00      0.00      0.00         9\n",
      "           4       0.00      0.00      0.00         0\n",
      "\n",
      "    accuracy                           0.50        60\n",
      "   macro avg       0.24      0.26      0.23        60\n",
      "weighted avg       0.51      0.50      0.50        60\n",
      "\n"
     ]
    }
   ],
   "source": [
    "import warnings\n",
    "warnings.simplefilter(action='ignore')\n",
    "print(\"Confusion Matrix: \\n\", confusion_matrix(y_test, predictions6))\n",
    "print(\"\\n\")\n",
    "print(classification_report(y_test, predictions6))"
   ]
  },
  {
   "cell_type": "raw",
   "id": "38c1327d-b470-4b49-9b67-79bed6fbb3a3",
   "metadata": {},
   "source": [
    "Les résultats montrent les performances du modèle d'arbre de décision sur l'ensemble de test. "
   ]
  },
  {
   "cell_type": "code",
   "execution_count": 44,
   "id": "2124362a-df5d-4c78-aa63-6b28ccbc60e2",
   "metadata": {},
   "outputs": [
    {
     "name": "stdout",
     "output_type": "stream",
     "text": [
      "Accuracy of Random Forests Model is:  0.5\n"
     ]
    }
   ],
   "source": [
    "dt_acc = accuracy_score(y_test, predictions6)\n",
    "print(\"Accuracy of Random Forests Model is: \", dt_acc)"
   ]
  },
  {
   "cell_type": "raw",
   "id": "3f08cfca-cb2d-454c-b044-6f5dafaf787c",
   "metadata": {},
   "source": [
    "L'exactitude (accuracy) du modèle d'arbre de décision est d'environ 50%. Cela signifie que le modèle a correctement classé environ 50% des observations dans l'ensemble de test."
   ]
  },
  {
   "cell_type": "markdown",
   "id": "851c16d3-17e4-49bf-9e7b-0148aae57846",
   "metadata": {},
   "source": [
    "### Intégration de Méthodes Innovantes pour Maximiser l'Exactitude des Modèles"
   ]
  },
  {
   "cell_type": "code",
   "execution_count": 45,
   "id": "2ae5ceeb-820b-4439-a5a8-64f5a2915eb0",
   "metadata": {},
   "outputs": [
    {
     "name": "stdout",
     "output_type": "stream",
     "text": [
      "Meilleur hyperparamètre pour arbre de décision : {'max_depth': 3, 'min_samples_split': 2}\n"
     ]
    }
   ],
   "source": [
    "from sklearn.tree import DecisionTreeClassifier\n",
    "\n",
    "# Définition du modèle\n",
    "decision_tree = DecisionTreeClassifier()\n",
    "\n",
    "# Définition de la grille des hyperparamètres\n",
    "param_grid = {'max_depth': [3, 5, 7, 10], 'min_samples_split': [2, 5, 10]}\n",
    "\n",
    "# Recherche de grille des hyperparamètres\n",
    "grid_search = GridSearchCV(decision_tree, param_grid, cv=5)\n",
    "grid_search.fit(X_train, y_train)\n",
    "\n",
    "# Meilleur hyperparamètre\n",
    "print(\"Meilleur hyperparamètre pour arbre de décision :\", grid_search.best_params_)\n",
    "\n",
    "# Prédiction\n",
    "y_pred = grid_search.predict(X_test)"
   ]
  },
  {
   "cell_type": "code",
   "execution_count": 46,
   "id": "e2163e22-210d-48b7-a4f1-3e0035bc50ea",
   "metadata": {},
   "outputs": [
    {
     "name": "stdout",
     "output_type": "stream",
     "text": [
      "Accuracy: 0.6333333333333333\n",
      "Classification Report:\n",
      "               precision    recall  f1-score   support\n",
      "\n",
      "           0       0.73      0.97      0.84        34\n",
      "           1       0.00      0.00      0.00         7\n",
      "           2       0.33      0.10      0.15        10\n",
      "           3       0.33      0.44      0.38         9\n",
      "\n",
      "    accuracy                           0.63        60\n",
      "   macro avg       0.35      0.38      0.34        60\n",
      "weighted avg       0.52      0.63      0.56        60\n",
      "\n"
     ]
    }
   ],
   "source": [
    "from sklearn.metrics import accuracy_score, classification_report\n",
    "import warnings\n",
    "warnings.simplefilter(action='ignore')\n",
    "# Entrainement du modèle avec les meilleurs hyperparamètres\n",
    "decision_tree = DecisionTreeClassifier(max_depth=grid_search.best_params_['max_depth'], min_samples_split=grid_search.best_params_['min_samples_split'])\n",
    "decision_tree.fit(X_train, y_train)\n",
    "\n",
    "# Prédiction\n",
    "y_pred = decision_tree.predict(X_test)\n",
    "\n",
    "# Mesures de performance\n",
    "accuracy = accuracy_score(y_test, y_pred)\n",
    "print(\"Accuracy:\", accuracy)\n",
    "print(\"Classification Report:\\n\", classification_report(y_test, y_pred))"
   ]
  },
  {
   "cell_type": "markdown",
   "id": "9c044212-9e36-4c45-8ed9-b73bd4ae029b",
   "metadata": {},
   "source": [
    "### 2.3.5 Support Vector Machines (SVM)"
   ]
  },
  {
   "cell_type": "raw",
   "id": "1c768e3f-246d-4a29-aaac-f8b1339d882c",
   "metadata": {},
   "source": [
    "Les machines à vecteurs de support (SVM) sont des modèles d'apprentissage supervisé utilisés à la fois pour la classification et la régression. L'objectif principal des SVM est de trouver l'hyperplan optimal qui sépare les données de différentes classes dans un espace de caractéristiques de manière à maximiser la marge entre les classes."
   ]
  },
  {
   "cell_type": "code",
   "execution_count": 47,
   "id": "0c57ff64-2adc-4ed5-a09b-8fc59e8136c1",
   "metadata": {},
   "outputs": [],
   "source": [
    "from sklearn.svm import SVC\n",
    "\n",
    "svc_model = SVC(kernel=\"rbf\")\n",
    "svc_model.fit(X_train, y_train)\n",
    "predictions5 = svc_model.predict(X_test)"
   ]
  },
  {
   "cell_type": "code",
   "execution_count": 48,
   "id": "443bec7c-0199-4f39-aedb-cd516a023d86",
   "metadata": {},
   "outputs": [
    {
     "name": "stdout",
     "output_type": "stream",
     "text": [
      "Confusion Matrix: \n",
      " [[34  0  0  0]\n",
      " [ 2  3  1  1]\n",
      " [ 4  4  1  1]\n",
      " [ 2  5  2  0]]\n",
      "\n",
      "\n",
      "              precision    recall  f1-score   support\n",
      "\n",
      "           0       0.81      1.00      0.89        34\n",
      "           1       0.25      0.43      0.32         7\n",
      "           2       0.25      0.10      0.14        10\n",
      "           3       0.00      0.00      0.00         9\n",
      "\n",
      "    accuracy                           0.63        60\n",
      "   macro avg       0.33      0.38      0.34        60\n",
      "weighted avg       0.53      0.63      0.57        60\n",
      "\n"
     ]
    }
   ],
   "source": [
    "print(\"Confusion Matrix: \\n\", confusion_matrix(y_test, predictions5))\n",
    "print(\"\\n\")\n",
    "print(classification_report(y_test, predictions5))"
   ]
  },
  {
   "cell_type": "raw",
   "id": "7b0e77c2-6ad8-4718-87f7-fbe300b9f2cf",
   "metadata": {},
   "source": [
    "Les résultats montrent les performances du modèle de machine à vecteurs de support (SVM) sur l'ensemble de test."
   ]
  },
  {
   "cell_type": "code",
   "execution_count": 49,
   "id": "2d502309-6b4e-4db9-9261-1ab42442a407",
   "metadata": {},
   "outputs": [
    {
     "name": "stdout",
     "output_type": "stream",
     "text": [
      "Accuracy of SVM model is:  0.6333333333333333\n"
     ]
    }
   ],
   "source": [
    "svm_acc = accuracy_score(y_test, predictions5)\n",
    "print(\"Accuracy of SVM model is: \", svm_acc)"
   ]
  },
  {
   "cell_type": "raw",
   "id": "b776bdcf-f580-4027-b00c-91f5cd213ab1",
   "metadata": {},
   "source": [
    "L'exactitude (accuracy) du modèle SVM est d'environ 63,33%, ce qui signifie que le modèle a correctement classé environ 63,33% des observations dans l'ensemble de test."
   ]
  },
  {
   "cell_type": "markdown",
   "id": "e4875975-461c-44cb-a4f4-3af655d01c20",
   "metadata": {},
   "source": [
    "# 3. Résultats finaux"
   ]
  },
  {
   "cell_type": "code",
   "execution_count": 50,
   "id": "b8cac226-277a-4ce4-9801-a579d5e61834",
   "metadata": {},
   "outputs": [
    {
     "name": "stdout",
     "output_type": "stream",
     "text": [
      "0.7333333333333333\n",
      "0.6833333333333333\n",
      "0.6666666666666666\n",
      "0.6333333333333333\n",
      "0.6333333333333333\n"
     ]
    }
   ],
   "source": [
    "print(best_lr_random_acc)\n",
    "print(knn_model_acc)\n",
    "print(rfc_acc)\n",
    "print(svm_acc)\n",
    "print(accuracy)"
   ]
  },
  {
   "cell_type": "code",
   "execution_count": 51,
   "id": "3e359717-d7d4-47ed-8d98-c12a1b0a2529",
   "metadata": {},
   "outputs": [
    {
     "data": {
      "text/plain": [
       "<Axes: >"
      ]
     },
     "execution_count": 51,
     "metadata": {},
     "output_type": "execute_result"
    },
    {
     "data": {
      "image/png": "[encoded data removed]",
      "text/plain": [
       "<Figure size 1200x600 with 1 Axes>"
      ]
     },
     "metadata": {},
     "output_type": "display_data"
    }
   ],
   "source": [
    "plt.figure(figsize=(12,6))\n",
    "model_acc = [best_lr_random_acc, knn_model_acc, best_rfc_acc, svm_acc,accuracy]\n",
    "model_name = ['LogisticRegression', 'KNN', 'RandomForests', 'SVM','DecisionTree' ]\n",
    "sns.barplot(x= model_acc, y=model_name, palette='magma')"
   ]
  },
  {
   "cell_type": "markdown",
   "id": "12dbe81e-dad0-40a2-b8eb-d141a5b0eea8",
   "metadata": {},
   "source": [
    "# 4. Interprétation\t"
   ]
  },
  {
   "cell_type": "markdown",
   "id": "bf521dc0-d586-40e0-8b25-0dc9f48e0bd0",
   "metadata": {},
   "source": [
    "##### La Régression Logistique a obtenu une précision de 73,33 %.\n",
    "##### Le modèle des K Plus Proches Voisins (KNN) a obtenu une précision de 68,33 %.\n",
    "##### Les Forêts Aléatoires (Random Forest Classifier) ont atteint une précision de 66,67 %.\n",
    "##### Les Machines à Vecteurs de Support (SVM) ont obtenu une précision de 63,33 %.\n",
    "##### Enfin, le modèle qui combine tous ces résultats a une précision de 63,33 %.\n",
    "##### La Régression Logistique semble être le modèle le plus performant parmi ceux testés, suivie du KNN, des Forêts Aléatoires et des SVM. Cependant, il est important de prendre en compte d'autres métriques telles que la sensibilité, la spécificité ou encore l'aire sous la courbe ROC pour obtenir une évaluation plus complète de la performance de chaque modèle dans la détection des maladies cardiaques."
   ]
  }
 ],
 "metadata": {
  "kernelspec": {
   "display_name": "Python 3 (ipykernel)",
   "language": "python",
   "name": "python3"
  },
  "language_info": {
   "codemirror_mode": {
    "name": "ipython",
    "version": 3
   },
   "file_extension": ".py",
   "mimetype": "text/x-python",
   "name": "python",
   "nbconvert_exporter": "python",
   "pygments_lexer": "ipython3",
   "version": "3.11.5"
  }
 },
 "nbformat": 4,
 "nbformat_minor": 5
}
